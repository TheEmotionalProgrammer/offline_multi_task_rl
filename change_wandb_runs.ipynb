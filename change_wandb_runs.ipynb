{
 "cells": [
  {
   "cell_type": "code",
   "execution_count": null,
   "metadata": {},
   "outputs": [],
   "source": [
    "import wandb\n",
    "api = wandb.Api()\n",
    "\n",
    "# Project is specified by <entity/project-name>\n",
    "runs = api.runs(\"gold-ai/DT_mixed\")\n",
    "group = \"SAC-N\"\n",
    "# config_name = \"0, 25, 50, 75, 100\"\n",
    "config_names = [\"0, 25, 50, 75, 100\", \"0, 25, 50, 75\", \"0, 25, 50\", \"0, 25\", \"0\", \"25\", \"50\", \"0, 75\", \"0, 50\", \"25, 50\", \"0, 50, 100\"]\n",
    "#config_name_desired = \"0, 25, 50, 75, 100\"\n",
    "\n",
    "for config_name in config_names:\n",
    "    filtered_runs = [run for run in runs if group in run.name and config_name in run.name]\n",
    "    for run in filtered_runs:\n",
    "        run.config['dataset'] = config_name\n",
    "        run.update()"
   ]
  },
  {
   "cell_type": "code",
   "execution_count": 29,
   "metadata": {},
   "outputs": [],
   "source": [
    "import pandas as pd \n",
    "import sys\n",
    "import wandb\n",
    "api = wandb.Api()\n",
    "\n",
    "# Project is specified by <entity/project-name>\n",
    "runs = api.runs(\"gold-ai/ALL_MIXED\")\n",
    "group = \"DT\"\n",
    "\n",
    "\n",
    "filtered_runs = [run for run in runs if group in run.name]\n",
    "filtered_runs = [run for run in filtered_runs if \"\"]\n",
    "\n",
    "for run in filtered_runs:\n",
    "    run.config['dataset'] = group  # Add group data to the run config\n",
    "    # TODO add any config you want\n",
    "    run.update()"
   ]
  }
 ],
 "metadata": {
  "kernelspec": {
   "display_name": ".venv",
   "language": "python",
   "name": "python3"
  },
  "language_info": {
   "codemirror_mode": {
    "name": "ipython",
    "version": 3
   },
   "file_extension": ".py",
   "mimetype": "text/x-python",
   "name": "python",
   "nbconvert_exporter": "python",
   "pygments_lexer": "ipython3",
   "version": "3.10.7"
  }
 },
 "nbformat": 4,
 "nbformat_minor": 2
}
