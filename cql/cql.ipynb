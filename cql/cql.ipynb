{
 "cells": [
  {
   "cell_type": "code",
   "execution_count": 65,
   "metadata": {
    "collapsed": true
   },
   "outputs": [],
   "source": [
    "import d3rlpy\n",
    "import minigrid\n",
    "import matplotlib.pyplot as plt\n",
    "from sklearn.model_selection import train_test_split\n",
    "import gymnasium as gym\n",
    "import dill\n",
    "from four_room.env import FourRoomsEnv\n",
    "from four_room.wrappers import gym_wrapper\n",
    "from four_room.shortest_path import find_all_action_values\n",
    "from four_room.utils import obs_to_state\n",
    "import numpy as np"
   ]
  },
  {
   "cell_type": "code",
   "execution_count": 66,
   "outputs": [],
   "source": [
    "train_config_path = '../four_room/configs/fourrooms_train_config.pl'\n",
    "reachable_test_config_path = '../four_room/configs/fourrooms_test_100_config.pl'\n",
    "unreachable_test_config_path = '../four_room/configs/fourrooms_test_0_config.pl'"
   ],
   "metadata": {
    "collapsed": false
   }
  },
  {
   "cell_type": "code",
   "execution_count": 67,
   "outputs": [],
   "source": [
    "def get_config(path):\n",
    "    with open('../four_room/configs/fourrooms_train_config.pl', 'rb') as file:\n",
    "        train_config = dill.load(file)\n",
    "    file.close()\n",
    "    return train_config"
   ],
   "metadata": {
    "collapsed": false
   }
  },
  {
   "cell_type": "code",
   "execution_count": 91,
   "outputs": [],
   "source": [
    "'''\n",
    "Generates a dataset from the tasks specified in config. Size of returned dataset thus depends on amount of tasks\n",
    "specified in config as well as on the quality of the policy used to generate the dataset. If step_limit=True is\n",
    "used as argument the generation of data samples is stopped after num_steps steps. If all task in config are\n",
    "completed before num_steps a smaller dataset is returned. The policy argument takes an int, where 0=expert,\n",
    "1=random.\n",
    "'''\n",
    "def get_dataset_from_config(config, policy=0, step_limit=False, num_steps=1000):\n",
    "\n",
    "    env = gym_wrapper(gym.make('MiniGrid-FourRooms-v1',\n",
    "                               agent_pos=config['agent positions'],\n",
    "                               goal_pos=config['goal positions'],\n",
    "                               doors_pos=config['topologies'],\n",
    "                               agent_dir=config['agent directions']))\n",
    "\n",
    "    num_of_tasks = len(config['agent positions'])\n",
    "    tasks_seen = 0\n",
    "\n",
    "    observation, info = env.reset()\n",
    "    tasks_seen += 1\n",
    "\n",
    "    dataset = {'observations': [], 'next_observations': [], 'actions': [], 'rewards': [],\n",
    "               'terminals': [], 'timeouts': [], 'infos': []}\n",
    "\n",
    "    count = 0\n",
    "    while not (step_limit and num_steps < count):  # stops if there is a step_limit and it is exceeded\n",
    "        count += 1\n",
    "\n",
    "        if policy == 0:\n",
    "            state = obs_to_state(observation)\n",
    "            q_values = find_all_action_values(state[:2], state[2], state[3:5], state[5:], 0.99)\n",
    "            action = np.argmax(q_values)\n",
    "        elif policy == 1:\n",
    "            action = env.action_space.sample()\n",
    "        else:\n",
    "            # implement default behaviour or return error, for now just uses random policy\n",
    "            action = env.action_space.sample()\n",
    "\n",
    "        last_observation = observation\n",
    "        observation, reward, terminated, truncated, info = env.step(action)\n",
    "\n",
    "        dataset['observations'].append(np.array(last_observation).flatten())\n",
    "        dataset['next_observations'].append(np.array(observation).flatten())\n",
    "        dataset['actions'].append(np.array([action]))\n",
    "        dataset['rewards'].append(reward)\n",
    "        dataset['terminals'].append(terminated)\n",
    "        dataset['timeouts'].append(truncated)\n",
    "        dataset['infos'].append(info)\n",
    "\n",
    "        if terminated or truncated:\n",
    "            if tasks_seen == num_of_tasks:\n",
    "                env.close()\n",
    "                break\n",
    "            observation, info = env.reset()\n",
    "            tasks_seen += 1\n",
    "\n",
    "    for key in dataset:\n",
    "        dataset[key] = np.array(dataset[key])\n",
    "    return dataset"
   ],
   "metadata": {
    "collapsed": false
   }
  },
  {
   "cell_type": "code",
   "execution_count": 92,
   "outputs": [],
   "source": [
    "def get_expert_dataset_from_config(config, step_limit=False, num_steps=1000):\n",
    "    return get_dataset_from_config(config, policy=0, step_limit=step_limit, num_steps=num_steps)"
   ],
   "metadata": {
    "collapsed": false
   }
  },
  {
   "cell_type": "code",
   "execution_count": 93,
   "outputs": [],
   "source": [
    "def get_random_dataset_from_config(config, step_limit=False, num_steps=1000):\n",
    "    return get_dataset_from_config(config, policy=1, step_limit=step_limit, num_steps=num_steps)"
   ],
   "metadata": {
    "collapsed": false
   }
  },
  {
   "cell_type": "code",
   "execution_count": 89,
   "outputs": [
    {
     "name": "stdout",
     "output_type": "stream",
     "text": [
      "#tasks =  40\n",
      "#steps =  3817\n"
     ]
    }
   ],
   "source": [
    "config = get_config(unreachable_test_config_path)\n",
    "\n",
    "dataset = get_random_dataset_from_config(config)\n",
    "\n",
    "num_tasks = len(config['agent positions'])\n",
    "num_steps = len(dataset['observations'])\n",
    "\n",
    "print('#tasks = ', num_tasks)\n",
    "print('#steps = ', num_steps)"
   ],
   "metadata": {
    "collapsed": false
   }
  },
  {
   "cell_type": "code",
   "execution_count": 9,
   "outputs": [
    {
     "name": "stdout",
     "output_type": "stream",
     "text": [
      "2024-05-07 15:38.57 [info     ] Signatures have been automatically determined. action_signature=Signature(dtype=[dtype('int64')], shape=[(1,)]) observation_signature=Signature(dtype=[dtype('float64')], shape=[(324,)]) reward_signature=Signature(dtype=[dtype('int32')], shape=[(1,)])\n",
      "2024-05-07 15:38.57 [info     ] Action-space has been automatically determined. action_space=<ActionSpace.DISCRETE: 2>\n",
      "2024-05-07 15:38.57 [info     ] Action size has been automatically determined. action_size=3\n",
      "2024-05-07 15:38.57 [info     ] Signatures have been automatically determined. action_signature=Signature(dtype=[dtype('int64')], shape=[(1,)]) observation_signature=Signature(dtype=[dtype('float64')], shape=[(324,)]) reward_signature=Signature(dtype=[dtype('int32')], shape=[(1,)])\n",
      "2024-05-07 15:38.57 [info     ] Action-space has been automatically determined. action_space=<ActionSpace.DISCRETE: 2>\n",
      "2024-05-07 15:38.57 [info     ] Action size has been automatically determined. action_size=3\n"
     ]
    }
   ],
   "source": [
    "train_dataset = four_room.fourrooms_dataset_gen.get_expert_dataset(800)\n",
    "test_dataset = four_room.fourrooms_dataset_gen.get_expert_dataset(200)\n",
    "\n",
    "train_dataset = d3rlpy.dataset.MDPDataset(\n",
    "    observations=train_dataset.get(\"observations\"),\n",
    "    actions=train_dataset.get(\"actions\"),\n",
    "    rewards=train_dataset.get(\"rewards\"),\n",
    "    terminals=train_dataset.get(\"terminals\"),\n",
    ")\n",
    "\n",
    "test_dataset = d3rlpy.dataset.MDPDataset(\n",
    "    observations=test_dataset.get(\"observations\"),\n",
    "    actions=test_dataset.get(\"actions\"),\n",
    "    rewards=test_dataset.get(\"rewards\"),\n",
    "    terminals=test_dataset.get(\"terminals\"),\n",
    ")"
   ],
   "metadata": {
    "collapsed": false
   }
  },
  {
   "cell_type": "code",
   "execution_count": 6,
   "outputs": [],
   "source": [
    "env = FourRoomsEnv()"
   ],
   "metadata": {
    "collapsed": false
   }
  },
  {
   "cell_type": "code",
   "execution_count": 16,
   "outputs": [
    {
     "name": "stdout",
     "output_type": "stream",
     "text": [
      "2024-05-07 15:59.32 [info     ] dataset info                   dataset_info=DatasetInfo(observation_signature=Signature(dtype=[dtype('float64')], shape=[(324,)]), action_signature=Signature(dtype=[dtype('int64')], shape=[(1,)]), reward_signature=Signature(dtype=[dtype('int32')], shape=[(1,)]), action_space=<ActionSpace.DISCRETE: 2>, action_size=3)\n",
      "2024-05-07 15:59.32 [info     ] Directory is created at d3rlpy_logs\\DiscreteCQL_20240507155932\n",
      "2024-05-07 15:59.32 [debug    ] Building models...            \n",
      "2024-05-07 15:59.32 [debug    ] Models have been built.       \n",
      "2024-05-07 15:59.33 [info     ] Parameters                     params={'observation_shape': [324], 'action_size': 3, 'config': {'type': 'discrete_cql', 'params': {'batch_size': 32, 'gamma': 0.99, 'observation_scaler': {'type': 'none', 'params': {}}, 'action_scaler': {'type': 'none', 'params': {}}, 'reward_scaler': {'type': 'none', 'params': {}}, 'learning_rate': 6.25e-05, 'optim_factory': {'type': 'adam', 'params': {'betas': [0.9, 0.999], 'eps': 1e-08, 'weight_decay': 0, 'amsgrad': False}}, 'encoder_factory': {'type': 'default', 'params': {'activation': 'relu', 'use_batch_norm': False, 'dropout_rate': None}}, 'q_func_factory': {'type': 'mean', 'params': {'share_encoder': False}}, 'n_critics': 1, 'target_update_interval': 8000, 'alpha': 1.0}}}\n"
     ]
    },
    {
     "data": {
      "text/plain": "Epoch 1/5:   0%|          | 0/2000 [00:00<?, ?it/s]",
      "application/vnd.jupyter.widget-view+json": {
       "version_major": 2,
       "version_minor": 0,
       "model_id": "33b4f0e5a84a4f86bb6d8b7312066d0c"
      }
     },
     "metadata": {},
     "output_type": "display_data"
    },
    {
     "name": "stdout",
     "output_type": "stream",
     "text": [
      "2024-05-07 15:59.57 [info     ] DiscreteCQL_20240507155932: epoch=1 step=2000 epoch=1 metrics={'time_sample_batch': 0.002813942551612854, 'time_algorithm_update': 0.009107040166854858, 'loss': 0.7980378549546003, 'td_loss': 0.07267564485128969, 'conservative_loss': 0.7253622107356786, 'time_step': 0.012051542162895203, 'metric_td_error': 0.2157160777083979, 'metric_discrete_action_match': 0.7972465581977471} step=2000\n",
      "2024-05-07 15:59.57 [info     ] Model parameters are saved to d3rlpy_logs\\DiscreteCQL_20240507155932\\model_2000.d3\n"
     ]
    },
    {
     "data": {
      "text/plain": "Epoch 2/5:   0%|          | 0/2000 [00:00<?, ?it/s]",
      "application/vnd.jupyter.widget-view+json": {
       "version_major": 2,
       "version_minor": 0,
       "model_id": "66278dccf5ef41629819d3bf966d3c76"
      }
     },
     "metadata": {},
     "output_type": "display_data"
    },
    {
     "name": "stdout",
     "output_type": "stream",
     "text": [
      "2024-05-07 16:00.24 [info     ] DiscreteCQL_20240507155932: epoch=2 step=4000 epoch=2 metrics={'time_sample_batch': 0.002887028932571411, 'time_algorithm_update': 0.009747663736343384, 'loss': 0.36401506954059004, 'td_loss': 0.028239232210209592, 'conservative_loss': 0.3357758374400437, 'time_step': 0.012782542943954468, 'metric_td_error': 0.18243883386163526, 'metric_discrete_action_match': 0.9949937421777222} step=4000\n",
      "2024-05-07 16:00.24 [info     ] Model parameters are saved to d3rlpy_logs\\DiscreteCQL_20240507155932\\model_4000.d3\n"
     ]
    },
    {
     "data": {
      "text/plain": "Epoch 3/5:   0%|          | 0/2000 [00:00<?, ?it/s]",
      "application/vnd.jupyter.widget-view+json": {
       "version_major": 2,
       "version_minor": 0,
       "model_id": "98c42793ed0c4174affe316545ff745a"
      }
     },
     "metadata": {},
     "output_type": "display_data"
    },
    {
     "name": "stdout",
     "output_type": "stream",
     "text": [
      "2024-05-07 16:01.23 [info     ] DiscreteCQL_20240507155932: epoch=4 step=8000 epoch=4 metrics={'time_sample_batch': 0.0036425143480300903, 'time_algorithm_update': 0.01164262318611145, 'loss': 0.035478820495773104, 'td_loss': 0.006278267535089981, 'conservative_loss': 0.029200552944093943, 'time_step': 0.015456988096237183, 'metric_td_error': 0.13933725038621567, 'metric_discrete_action_match': 1.0} step=8000\n",
      "2024-05-07 16:01.23 [info     ] Model parameters are saved to d3rlpy_logs\\DiscreteCQL_20240507155932\\model_8000.d3\n"
     ]
    },
    {
     "data": {
      "text/plain": "Epoch 5/5:   0%|          | 0/2000 [00:00<?, ?it/s]",
      "application/vnd.jupyter.widget-view+json": {
       "version_major": 2,
       "version_minor": 0,
       "model_id": "38c68417633d45e6b244f203c4356cd3"
      }
     },
     "metadata": {},
     "output_type": "display_data"
    },
    {
     "name": "stdout",
     "output_type": "stream",
     "text": [
      "2024-05-07 16:01.56 [info     ] DiscreteCQL_20240507155932: epoch=5 step=10000 epoch=5 metrics={'time_sample_batch': 0.003772738575935364, 'time_algorithm_update': 0.012200772166252136, 'loss': 0.014182602640823461, 'td_loss': 0.0039158343615417835, 'conservative_loss': 0.010266768272675109, 'time_step': 0.016146977543830873, 'metric_td_error': 0.1280818070551048, 'metric_discrete_action_match': 1.0} step=10000\n",
      "2024-05-07 16:01.56 [info     ] Model parameters are saved to d3rlpy_logs\\DiscreteCQL_20240507155932\\model_10000.d3\n"
     ]
    },
    {
     "data": {
      "text/plain": "[(1,\n  {'time_sample_batch': 0.002813942551612854,\n   'time_algorithm_update': 0.009107040166854858,\n   'loss': 0.7980378549546003,\n   'td_loss': 0.07267564485128969,\n   'conservative_loss': 0.7253622107356786,\n   'time_step': 0.012051542162895203,\n   'metric_td_error': 0.2157160777083979,\n   'metric_discrete_action_match': 0.7972465581977471}),\n (2,\n  {'time_sample_batch': 0.002887028932571411,\n   'time_algorithm_update': 0.009747663736343384,\n   'loss': 0.36401506954059004,\n   'td_loss': 0.028239232210209592,\n   'conservative_loss': 0.3357758374400437,\n   'time_step': 0.012782542943954468,\n   'metric_td_error': 0.18243883386163526,\n   'metric_discrete_action_match': 0.9949937421777222}),\n (3,\n  {'time_sample_batch': 0.0029916235208511353,\n   'time_algorithm_update': 0.009985337257385254,\n   'loss': 0.11478013947419823,\n   'td_loss': 0.017309898683335632,\n   'conservative_loss': 0.09747024079225958,\n   'time_step': 0.013128781914710999,\n   'metric_td_error': 0.15758154227349477,\n   'metric_discrete_action_match': 1.0}),\n (4,\n  {'time_sample_batch': 0.0036425143480300903,\n   'time_algorithm_update': 0.01164262318611145,\n   'loss': 0.035478820495773104,\n   'td_loss': 0.006278267535089981,\n   'conservative_loss': 0.029200552944093943,\n   'time_step': 0.015456988096237183,\n   'metric_td_error': 0.13933725038621567,\n   'metric_discrete_action_match': 1.0}),\n (5,\n  {'time_sample_batch': 0.003772738575935364,\n   'time_algorithm_update': 0.012200772166252136,\n   'loss': 0.014182602640823461,\n   'td_loss': 0.0039158343615417835,\n   'conservative_loss': 0.010266768272675109,\n   'time_step': 0.016146977543830873,\n   'metric_td_error': 0.1280818070551048,\n   'metric_discrete_action_match': 1.0})]"
     },
     "execution_count": 16,
     "metadata": {},
     "output_type": "execute_result"
    }
   ],
   "source": [
    "# setup algorithm\n",
    "cql = d3rlpy.algos.DiscreteCQLConfig().create()\n",
    "\n",
    "# start offline training\n",
    "cql.fit(train_dataset,\n",
    "        evaluators={\"metric_td_error\": d3rlpy.metrics.TDErrorEvaluator(),\n",
    "                    \"metric_discrete_action_match\": d3rlpy.metrics.DiscreteActionMatchEvaluator()},\n",
    "        n_steps=10000,\n",
    "        n_steps_per_epoch=2000)"
   ],
   "metadata": {
    "collapsed": false
   }
  },
  {
   "cell_type": "code",
   "execution_count": 1,
   "outputs": [
    {
     "data": {
      "text/plain": "<Figure size 640x480 with 1 Axes>",
      "image/png": "[encoded data removed]"
     },
     "metadata": {},
     "output_type": "display_data"
    }
   ],
   "source": [
    "data_str = '''\n",
    "[(1,\n",
    "  {'time_sample_batch': 0.002453571367263794,\n",
    "   'time_algorithm_update': 0.008095146250724793,\n",
    "   'loss': 0.26805083905658683,\n",
    "   'td_loss': 0.028214070072909818,\n",
    "   'conservative_loss': 0.23983676906349138,\n",
    "   'time_step': 0.010789391541481019}),\n",
    " (2,\n",
    "  {'time_sample_batch': 0.0026196724891662596,\n",
    "   'time_algorithm_update': 0.008502544212341308,\n",
    "   'loss': 0.00442748624390224,\n",
    "   'td_loss': 0.0020811191182809126,\n",
    "   'conservative_loss': 0.0023463671271834754,\n",
    "   'time_step': 0.011384639143943786}),\n",
    " (3,\n",
    "  {'time_sample_batch': 0.0026601959228515627,\n",
    "   'time_algorithm_update': 0.008795037937164307,\n",
    "   'loss': 0.0024433221404324286,\n",
    "   'td_loss': 0.0018449234426145267,\n",
    "   'conservative_loss': 0.0005983986965155054,\n",
    "   'time_step': 0.01171650288105011}),\n",
    " (4,\n",
    "  {'time_sample_batch': 0.0026230920791625975,\n",
    "   'time_algorithm_update': 0.008671077847480774,\n",
    "   'loss': 0.001946176831322373,\n",
    "   'td_loss': 0.0016005617132417683,\n",
    "   'conservative_loss': 0.0003456151181773748,\n",
    "   'time_step': 0.01155380618572235}),\n",
    " (5,\n",
    "  {'time_sample_batch': 0.0023678970336914063,\n",
    "   'time_algorithm_update': 0.007757962155342102,\n",
    "   'loss': 0.002180829712114064,\n",
    "   'td_loss': 0.001928035513881332,\n",
    "   'conservative_loss': 0.0002527941971202381,\n",
    "   'time_step': 0.010353169536590576}),\n",
    " (6,\n",
    "  {'time_sample_batch': 0.0024223738431930542,\n",
    "   'time_algorithm_update': 0.007932768154144287,\n",
    "   'loss': 0.0012808308376130299,\n",
    "   'td_loss': 0.001124828100625382,\n",
    "   'conservative_loss': 0.00015600273776690302,\n",
    "   'time_step': 0.010581687355041504}),\n",
    " (7,\n",
    "  {'time_sample_batch': 0.0023287145137786867,\n",
    "   'time_algorithm_update': 0.0076536212682724,\n",
    "   'loss': 0.0010928242479749314,\n",
    "   'td_loss': 0.000987476016994151,\n",
    "   'conservative_loss': 0.00010534823082271032,\n",
    "   'time_step': 0.010198658752441405}),\n",
    " (8,\n",
    "  {'time_sample_batch': 0.0024859055280685425,\n",
    "   'time_algorithm_update': 0.008131403374671936,\n",
    "   'loss': 0.000782717349694758,\n",
    "   'td_loss': 0.0007138595239312053,\n",
    "   'conservative_loss': 6.885782509998535e-05,\n",
    "   'time_step': 0.010864242696762085}),\n",
    " (9,\n",
    "  {'time_sample_batch': 0.0031290735244750975,\n",
    "   'time_algorithm_update': 0.010494501042366027,\n",
    "   'loss': 0.0006659229309823786,\n",
    "   'td_loss': 0.0006155338401653808,\n",
    "   'conservative_loss': 5.038909053382667e-05,\n",
    "   'time_step': 0.013914334535598755}),\n",
    " (10,\n",
    "  {'time_sample_batch': 0.0024770496129989626,\n",
    "   'time_algorithm_update': 0.008308553409576416,\n",
    "   'loss': 0.00030445473760623825,\n",
    "   'td_loss': 0.0002846679988856522,\n",
    "   'conservative_loss': 1.9786738651055204e-05,\n",
    "   'time_step': 0.01101419837474823})]\n",
    "'''\n",
    "\n",
    "# Evaluate the string to convert it into a list of tuples\n",
    "data = eval(data_str)\n",
    "\n",
    "# Extract generations and losses\n",
    "generations = [d[0] for d in data]\n",
    "losses = [d[1]['loss'] for d in data]\n",
    "\n",
    "# Plotting\n",
    "plt.plot(generations, losses, marker='o', linestyle='-')\n",
    "plt.xlabel('Generations')\n",
    "plt.ylabel('Loss')\n",
    "plt.title('Loss over Generations')\n",
    "plt.grid(True)\n",
    "plt.show()\n"
   ],
   "metadata": {
    "collapsed": false
   }
  },
  {
   "cell_type": "code",
   "execution_count": 17,
   "outputs": [
    {
     "data": {
      "text/plain": "<Figure size 640x480 with 1 Axes>",
      "image/png": "[encoded data removed]"
     },
     "metadata": {},
     "output_type": "display_data"
    }
   ],
   "source": [
    "data_str = '''\n",
    "[(1,\n",
    "  {'time_sample_batch': 0.002813942551612854,\n",
    "   'time_algorithm_update': 0.009107040166854858,\n",
    "   'loss': 0.7980378549546003,\n",
    "   'td_loss': 0.07267564485128969,\n",
    "   'conservative_loss': 0.7253622107356786,\n",
    "   'time_step': 0.012051542162895203,\n",
    "   'metric_td_error': 0.2157160777083979,\n",
    "   'metric_discrete_action_match': 0.7972465581977471}),\n",
    " (2,\n",
    "  {'time_sample_batch': 0.002887028932571411,\n",
    "   'time_algorithm_update': 0.009747663736343384,\n",
    "   'loss': 0.36401506954059004,\n",
    "   'td_loss': 0.028239232210209592,\n",
    "   'conservative_loss': 0.3357758374400437,\n",
    "   'time_step': 0.012782542943954468,\n",
    "   'metric_td_error': 0.18243883386163526,\n",
    "   'metric_discrete_action_match': 0.9949937421777222}),\n",
    " (3,\n",
    "  {'time_sample_batch': 0.0029916235208511353,\n",
    "   'time_algorithm_update': 0.009985337257385254,\n",
    "   'loss': 0.11478013947419823,\n",
    "   'td_loss': 0.017309898683335632,\n",
    "   'conservative_loss': 0.09747024079225958,\n",
    "   'time_step': 0.013128781914710999,\n",
    "   'metric_td_error': 0.15758154227349477,\n",
    "   'metric_discrete_action_match': 1.0}),\n",
    " (4,\n",
    "  {'time_sample_batch': 0.0036425143480300903,\n",
    "   'time_algorithm_update': 0.01164262318611145,\n",
    "   'loss': 0.035478820495773104,\n",
    "   'td_loss': 0.006278267535089981,\n",
    "   'conservative_loss': 0.029200552944093943,\n",
    "   'time_step': 0.015456988096237183,\n",
    "   'metric_td_error': 0.13933725038621567,\n",
    "   'metric_discrete_action_match': 1.0}),\n",
    " (5,\n",
    "  {'time_sample_batch': 0.003772738575935364,\n",
    "   'time_algorithm_update': 0.012200772166252136,\n",
    "   'loss': 0.014182602640823461,\n",
    "   'td_loss': 0.0039158343615417835,\n",
    "   'conservative_loss': 0.010266768272675109,\n",
    "   'time_step': 0.016146977543830873,\n",
    "   'metric_td_error': 0.1280818070551048,\n",
    "   'metric_discrete_action_match': 1.0})]\n",
    "'''\n",
    "\n",
    "# Evaluate the string to convert it into a list of tuples\n",
    "data = eval(data_str)\n",
    "\n",
    "# Extract generations, losses, and TD errors\n",
    "generations = [d[0] for d in data]\n",
    "losses = [d[1]['loss'] for d in data]\n",
    "td_errors = [d[1]['metric_td_error'] for d in data]\n",
    "\n",
    "# Plotting\n",
    "plt.plot(generations, losses, marker='o', linestyle='-', label='Loss')\n",
    "plt.plot(generations, td_errors, marker='o', linestyle='-', label='TD Error')\n",
    "plt.xlabel('Generations')\n",
    "plt.ylabel('Loss / TD Error')\n",
    "plt.title('Loss and TD Error over Generations')\n",
    "plt.legend()\n",
    "plt.grid(True)\n",
    "plt.show()"
   ],
   "metadata": {
    "collapsed": false
   }
  },
  {
   "cell_type": "code",
   "execution_count": 13,
   "outputs": [
    {
     "ename": "TypeError",
     "evalue": "Singleton array array(<d3rlpy.dataset.replay_buffer.ReplayBuffer object at 0x000001ED248B1420>,\n      dtype=object) cannot be considered a valid collection.",
     "output_type": "error",
     "traceback": [
      "\u001B[1;31m---------------------------------------------------------------------------\u001B[0m",
      "\u001B[1;31mTypeError\u001B[0m                                 Traceback (most recent call last)",
      "Cell \u001B[1;32mIn[13], line 1\u001B[0m\n\u001B[1;32m----> 1\u001B[0m train_episodes, test_episodes \u001B[38;5;241m=\u001B[39m \u001B[43mtrain_test_split\u001B[49m\u001B[43m(\u001B[49m\u001B[43mdataset\u001B[49m\u001B[43m,\u001B[49m\u001B[43m \u001B[49m\u001B[43mtest_size\u001B[49m\u001B[38;5;241;43m=\u001B[39;49m\u001B[38;5;241;43m0.2\u001B[39;49m\u001B[43m)\u001B[49m\n",
      "File \u001B[1;32m~\\anaconda3\\envs\\offline_multi_task_rl\\lib\\site-packages\\sklearn\\utils\\_param_validation.py:213\u001B[0m, in \u001B[0;36mvalidate_params.<locals>.decorator.<locals>.wrapper\u001B[1;34m(*args, **kwargs)\u001B[0m\n\u001B[0;32m    207\u001B[0m \u001B[38;5;28;01mtry\u001B[39;00m:\n\u001B[0;32m    208\u001B[0m     \u001B[38;5;28;01mwith\u001B[39;00m config_context(\n\u001B[0;32m    209\u001B[0m         skip_parameter_validation\u001B[38;5;241m=\u001B[39m(\n\u001B[0;32m    210\u001B[0m             prefer_skip_nested_validation \u001B[38;5;129;01mor\u001B[39;00m global_skip_validation\n\u001B[0;32m    211\u001B[0m         )\n\u001B[0;32m    212\u001B[0m     ):\n\u001B[1;32m--> 213\u001B[0m         \u001B[38;5;28;01mreturn\u001B[39;00m func(\u001B[38;5;241m*\u001B[39margs, \u001B[38;5;241m*\u001B[39m\u001B[38;5;241m*\u001B[39mkwargs)\n\u001B[0;32m    214\u001B[0m \u001B[38;5;28;01mexcept\u001B[39;00m InvalidParameterError \u001B[38;5;28;01mas\u001B[39;00m e:\n\u001B[0;32m    215\u001B[0m     \u001B[38;5;66;03m# When the function is just a wrapper around an estimator, we allow\u001B[39;00m\n\u001B[0;32m    216\u001B[0m     \u001B[38;5;66;03m# the function to delegate validation to the estimator, but we replace\u001B[39;00m\n\u001B[0;32m    217\u001B[0m     \u001B[38;5;66;03m# the name of the estimator by the name of the function in the error\u001B[39;00m\n\u001B[0;32m    218\u001B[0m     \u001B[38;5;66;03m# message to avoid confusion.\u001B[39;00m\n\u001B[0;32m    219\u001B[0m     msg \u001B[38;5;241m=\u001B[39m re\u001B[38;5;241m.\u001B[39msub(\n\u001B[0;32m    220\u001B[0m         \u001B[38;5;124mr\u001B[39m\u001B[38;5;124m\"\u001B[39m\u001B[38;5;124mparameter of \u001B[39m\u001B[38;5;124m\\\u001B[39m\u001B[38;5;124mw+ must be\u001B[39m\u001B[38;5;124m\"\u001B[39m,\n\u001B[0;32m    221\u001B[0m         \u001B[38;5;124mf\u001B[39m\u001B[38;5;124m\"\u001B[39m\u001B[38;5;124mparameter of \u001B[39m\u001B[38;5;132;01m{\u001B[39;00mfunc\u001B[38;5;241m.\u001B[39m\u001B[38;5;18m__qualname__\u001B[39m\u001B[38;5;132;01m}\u001B[39;00m\u001B[38;5;124m must be\u001B[39m\u001B[38;5;124m\"\u001B[39m,\n\u001B[0;32m    222\u001B[0m         \u001B[38;5;28mstr\u001B[39m(e),\n\u001B[0;32m    223\u001B[0m     )\n",
      "File \u001B[1;32m~\\anaconda3\\envs\\offline_multi_task_rl\\lib\\site-packages\\sklearn\\model_selection\\_split.py:2657\u001B[0m, in \u001B[0;36mtrain_test_split\u001B[1;34m(test_size, train_size, random_state, shuffle, stratify, *arrays)\u001B[0m\n\u001B[0;32m   2654\u001B[0m \u001B[38;5;28;01mif\u001B[39;00m n_arrays \u001B[38;5;241m==\u001B[39m \u001B[38;5;241m0\u001B[39m:\n\u001B[0;32m   2655\u001B[0m     \u001B[38;5;28;01mraise\u001B[39;00m \u001B[38;5;167;01mValueError\u001B[39;00m(\u001B[38;5;124m\"\u001B[39m\u001B[38;5;124mAt least one array required as input\u001B[39m\u001B[38;5;124m\"\u001B[39m)\n\u001B[1;32m-> 2657\u001B[0m arrays \u001B[38;5;241m=\u001B[39m \u001B[43mindexable\u001B[49m\u001B[43m(\u001B[49m\u001B[38;5;241;43m*\u001B[39;49m\u001B[43marrays\u001B[49m\u001B[43m)\u001B[49m\n\u001B[0;32m   2659\u001B[0m n_samples \u001B[38;5;241m=\u001B[39m _num_samples(arrays[\u001B[38;5;241m0\u001B[39m])\n\u001B[0;32m   2660\u001B[0m n_train, n_test \u001B[38;5;241m=\u001B[39m _validate_shuffle_split(\n\u001B[0;32m   2661\u001B[0m     n_samples, test_size, train_size, default_test_size\u001B[38;5;241m=\u001B[39m\u001B[38;5;241m0.25\u001B[39m\n\u001B[0;32m   2662\u001B[0m )\n",
      "File \u001B[1;32m~\\anaconda3\\envs\\offline_multi_task_rl\\lib\\site-packages\\sklearn\\utils\\validation.py:514\u001B[0m, in \u001B[0;36mindexable\u001B[1;34m(*iterables)\u001B[0m\n\u001B[0;32m    484\u001B[0m \u001B[38;5;250m\u001B[39m\u001B[38;5;124;03m\"\"\"Make arrays indexable for cross-validation.\u001B[39;00m\n\u001B[0;32m    485\u001B[0m \n\u001B[0;32m    486\u001B[0m \u001B[38;5;124;03mChecks consistent length, passes through None, and ensures that everything\u001B[39;00m\n\u001B[1;32m   (...)\u001B[0m\n\u001B[0;32m    510\u001B[0m \u001B[38;5;124;03m[[1, 2, 3], array([2, 3, 4]), None, <3x1 sparse matrix ...>]\u001B[39;00m\n\u001B[0;32m    511\u001B[0m \u001B[38;5;124;03m\"\"\"\u001B[39;00m\n\u001B[0;32m    513\u001B[0m result \u001B[38;5;241m=\u001B[39m [_make_indexable(X) \u001B[38;5;28;01mfor\u001B[39;00m X \u001B[38;5;129;01min\u001B[39;00m iterables]\n\u001B[1;32m--> 514\u001B[0m \u001B[43mcheck_consistent_length\u001B[49m\u001B[43m(\u001B[49m\u001B[38;5;241;43m*\u001B[39;49m\u001B[43mresult\u001B[49m\u001B[43m)\u001B[49m\n\u001B[0;32m    515\u001B[0m \u001B[38;5;28;01mreturn\u001B[39;00m result\n",
      "File \u001B[1;32m~\\anaconda3\\envs\\offline_multi_task_rl\\lib\\site-packages\\sklearn\\utils\\validation.py:454\u001B[0m, in \u001B[0;36mcheck_consistent_length\u001B[1;34m(*arrays)\u001B[0m\n\u001B[0;32m    436\u001B[0m \u001B[38;5;28;01mdef\u001B[39;00m \u001B[38;5;21mcheck_consistent_length\u001B[39m(\u001B[38;5;241m*\u001B[39marrays):\n\u001B[0;32m    437\u001B[0m \u001B[38;5;250m    \u001B[39m\u001B[38;5;124;03m\"\"\"Check that all arrays have consistent first dimensions.\u001B[39;00m\n\u001B[0;32m    438\u001B[0m \n\u001B[0;32m    439\u001B[0m \u001B[38;5;124;03m    Checks whether all objects in arrays have the same shape or length.\u001B[39;00m\n\u001B[1;32m   (...)\u001B[0m\n\u001B[0;32m    451\u001B[0m \u001B[38;5;124;03m    >>> check_consistent_length(a, b)\u001B[39;00m\n\u001B[0;32m    452\u001B[0m \u001B[38;5;124;03m    \"\"\"\u001B[39;00m\n\u001B[1;32m--> 454\u001B[0m     lengths \u001B[38;5;241m=\u001B[39m [_num_samples(X) \u001B[38;5;28;01mfor\u001B[39;00m X \u001B[38;5;129;01min\u001B[39;00m arrays \u001B[38;5;28;01mif\u001B[39;00m X \u001B[38;5;129;01mis\u001B[39;00m \u001B[38;5;129;01mnot\u001B[39;00m \u001B[38;5;28;01mNone\u001B[39;00m]\n\u001B[0;32m    455\u001B[0m     uniques \u001B[38;5;241m=\u001B[39m np\u001B[38;5;241m.\u001B[39munique(lengths)\n\u001B[0;32m    456\u001B[0m     \u001B[38;5;28;01mif\u001B[39;00m \u001B[38;5;28mlen\u001B[39m(uniques) \u001B[38;5;241m>\u001B[39m \u001B[38;5;241m1\u001B[39m:\n",
      "File \u001B[1;32m~\\anaconda3\\envs\\offline_multi_task_rl\\lib\\site-packages\\sklearn\\utils\\validation.py:454\u001B[0m, in \u001B[0;36m<listcomp>\u001B[1;34m(.0)\u001B[0m\n\u001B[0;32m    436\u001B[0m \u001B[38;5;28;01mdef\u001B[39;00m \u001B[38;5;21mcheck_consistent_length\u001B[39m(\u001B[38;5;241m*\u001B[39marrays):\n\u001B[0;32m    437\u001B[0m \u001B[38;5;250m    \u001B[39m\u001B[38;5;124;03m\"\"\"Check that all arrays have consistent first dimensions.\u001B[39;00m\n\u001B[0;32m    438\u001B[0m \n\u001B[0;32m    439\u001B[0m \u001B[38;5;124;03m    Checks whether all objects in arrays have the same shape or length.\u001B[39;00m\n\u001B[1;32m   (...)\u001B[0m\n\u001B[0;32m    451\u001B[0m \u001B[38;5;124;03m    >>> check_consistent_length(a, b)\u001B[39;00m\n\u001B[0;32m    452\u001B[0m \u001B[38;5;124;03m    \"\"\"\u001B[39;00m\n\u001B[1;32m--> 454\u001B[0m     lengths \u001B[38;5;241m=\u001B[39m [\u001B[43m_num_samples\u001B[49m\u001B[43m(\u001B[49m\u001B[43mX\u001B[49m\u001B[43m)\u001B[49m \u001B[38;5;28;01mfor\u001B[39;00m X \u001B[38;5;129;01min\u001B[39;00m arrays \u001B[38;5;28;01mif\u001B[39;00m X \u001B[38;5;129;01mis\u001B[39;00m \u001B[38;5;129;01mnot\u001B[39;00m \u001B[38;5;28;01mNone\u001B[39;00m]\n\u001B[0;32m    455\u001B[0m     uniques \u001B[38;5;241m=\u001B[39m np\u001B[38;5;241m.\u001B[39munique(lengths)\n\u001B[0;32m    456\u001B[0m     \u001B[38;5;28;01mif\u001B[39;00m \u001B[38;5;28mlen\u001B[39m(uniques) \u001B[38;5;241m>\u001B[39m \u001B[38;5;241m1\u001B[39m:\n",
      "File \u001B[1;32m~\\anaconda3\\envs\\offline_multi_task_rl\\lib\\site-packages\\sklearn\\utils\\validation.py:382\u001B[0m, in \u001B[0;36m_num_samples\u001B[1;34m(x)\u001B[0m\n\u001B[0;32m    380\u001B[0m \u001B[38;5;28;01mif\u001B[39;00m \u001B[38;5;28mhasattr\u001B[39m(x, \u001B[38;5;124m\"\u001B[39m\u001B[38;5;124mshape\u001B[39m\u001B[38;5;124m\"\u001B[39m) \u001B[38;5;129;01mand\u001B[39;00m x\u001B[38;5;241m.\u001B[39mshape \u001B[38;5;129;01mis\u001B[39;00m \u001B[38;5;129;01mnot\u001B[39;00m \u001B[38;5;28;01mNone\u001B[39;00m:\n\u001B[0;32m    381\u001B[0m     \u001B[38;5;28;01mif\u001B[39;00m \u001B[38;5;28mlen\u001B[39m(x\u001B[38;5;241m.\u001B[39mshape) \u001B[38;5;241m==\u001B[39m \u001B[38;5;241m0\u001B[39m:\n\u001B[1;32m--> 382\u001B[0m         \u001B[38;5;28;01mraise\u001B[39;00m \u001B[38;5;167;01mTypeError\u001B[39;00m(\n\u001B[0;32m    383\u001B[0m             \u001B[38;5;124m\"\u001B[39m\u001B[38;5;124mSingleton array \u001B[39m\u001B[38;5;132;01m%r\u001B[39;00m\u001B[38;5;124m cannot be considered a valid collection.\u001B[39m\u001B[38;5;124m\"\u001B[39m \u001B[38;5;241m%\u001B[39m x\n\u001B[0;32m    384\u001B[0m         )\n\u001B[0;32m    385\u001B[0m     \u001B[38;5;66;03m# Check that shape is returning an integer or default to len\u001B[39;00m\n\u001B[0;32m    386\u001B[0m     \u001B[38;5;66;03m# Dask dataframes may not return numeric shape[0] value\u001B[39;00m\n\u001B[0;32m    387\u001B[0m     \u001B[38;5;28;01mif\u001B[39;00m \u001B[38;5;28misinstance\u001B[39m(x\u001B[38;5;241m.\u001B[39mshape[\u001B[38;5;241m0\u001B[39m], numbers\u001B[38;5;241m.\u001B[39mIntegral):\n",
      "\u001B[1;31mTypeError\u001B[0m: Singleton array array(<d3rlpy.dataset.replay_buffer.ReplayBuffer object at 0x000001ED248B1420>,\n      dtype=object) cannot be considered a valid collection."
     ]
    }
   ],
   "source": [
    "train_episodes, test_episodes = train_test_split(dataset, test_size=0.2)"
   ],
   "metadata": {
    "collapsed": false
   }
  }
 ],
 "metadata": {
  "kernelspec": {
   "display_name": "Python 3",
   "language": "python",
   "name": "python3"
  },
  "language_info": {
   "codemirror_mode": {
    "name": "ipython",
    "version": 2
   },
   "file_extension": ".py",
   "mimetype": "text/x-python",
   "name": "python",
   "nbconvert_exporter": "python",
   "pygments_lexer": "ipython2",
   "version": "2.7.6"
  }
 },
 "nbformat": 4,
 "nbformat_minor": 0
}
