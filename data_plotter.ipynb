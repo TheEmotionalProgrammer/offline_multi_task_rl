{
 "cells": [
  {
   "cell_type": "code",
   "execution_count": 1,
   "metadata": {},
   "outputs": [],
   "source": [
    "import wandb\n",
    "api = wandb.Api()\n",
    "import pandas as pd\n",
    "import sys\n",
    "\n",
    "pd.set_option('display.max_columns', 100)\n",
    "pd.set_option('display.max_rows', 100)\n",
    "pd.set_option('display.width', 100)    \n",
    "\n",
    "def get_data(group, dataset):\n",
    "    # Project is specified by <entity/project-name>\n",
    "\n",
    "    algo = group\n",
    "    performances = {}\n",
    "    performances['train'] = []\n",
    "    performances['reachable'] = []\n",
    "    performances['unreachable'] = []\n",
    "    # performances['CQL'] = {}\n",
    "    # performances['DT'] = {}\n",
    "    # performances['BC'] = {}\n",
    "    # performances['SUNRISE'] = {}\n",
    "    # performances['IQL'] = {}\n",
    "    # performances['SAC-N'] = {}\n",
    "\n",
    "    filtered_runs = api.runs(\"gold-ai/ALL_MIXED\", filters={\"config.group\": algo, \"config.dataset\": dataset})\n",
    "\n",
    "    # filtered_runs = [run for run in runs if group.lower() == run.config['group'].lower()]\n",
    "    # filtered_runs = [run for run in filtered_runs if dataset.lower() == run.config['dataset'].lower()]\n",
    "\n",
    "    progress = 0\n",
    "    # print(f\"progress: {progress}/{len(filtered_runs)}\")\n",
    "\n",
    "\n",
    "    for run in filtered_runs:\n",
    "        train_data = \"\"\n",
    "        reachable_data = \"\"\n",
    "        unreachable_data = \"\"\n",
    "        samples = 0\n",
    "\n",
    "        if algo == \"CQL\":\n",
    "            train_data = \"Train Performance\"\n",
    "            reachable_data = \"Reachable Performance\"\n",
    "            unreachable_data = \"Unreachable Performance\"\n",
    "            samples = 300\n",
    "            reachable_relative_step = 0\n",
    "            unreachable_relative_step = 0\n",
    "            \n",
    "        if algo == \"BC\":\n",
    "            train_data = \"Cumulative Reward.Train\"\n",
    "            reachable_data = \"Cumulative Reward.Test_reachable\"\n",
    "            unreachable_data = \"Cumulative Reward.Test_unreachable\"\n",
    "            samples = 100\n",
    "            reachable_relative_step = 0\n",
    "            unreachable_relative_step = 0\n",
    "\n",
    "\n",
    "        if algo == \"DT\":\n",
    "            train_data = \"Cumulative Reward.Train\"\n",
    "            reachable_data = \"Cumulative Reward.Test_reachable\"\n",
    "            unreachable_data = \"Cumulative Reward.Test_unreachable\"\n",
    "            samples = 100\n",
    "            reachable_relative_step = 0\n",
    "            unreachable_relative_step = 0\n",
    "\n",
    "\n",
    "        if algo == \"SUNRISE\":\n",
    "            train_data = \"train/reward_mean\"\n",
    "            reachable_data = \"eval_reachable/reward_mean\"\n",
    "            unreachable_data = \"eval_unreachable/reward_mean\"\n",
    "            samples = 3000\n",
    "            reachable_relative_step = -2\n",
    "            unreachable_relative_step = -1\n",
    "\n",
    "        if algo == \"IQL\":\n",
    "            train_data = \"Eval Reward\"\n",
    "            reachable_data = \"Test Cumulative Reachable Reward\"\n",
    "            unreachable_data = \"Test Cumulative Unreachable Reward\"\n",
    "            samples = 1000\n",
    "            reachable_relative_step = 0\n",
    "            unreachable_relative_step = 1\n",
    "\n",
    "\n",
    "        if algo == \"SAC-N\":\n",
    "            train_data = \"train/reward_mean\"\n",
    "            reachable_data = \"eval_reachable/reward_mean\"\n",
    "            unreachable_data = \"eval_unreachable/reward_mean\"\n",
    "            samples = 3000\n",
    "            reachable_relative_step = -2\n",
    "            unreachable_relative_step = -1\n",
    "\n",
    "\n",
    "        history = run.history(samples=100000, pandas=True)\n",
    "        history = history[['_step', train_data, reachable_data, unreachable_data]]\n",
    "        if not history.empty:\n",
    "            train_max_row_id = history[train_data].idxmax()\n",
    "            train_max_row = history.iloc[train_max_row_id]\n",
    "            reachable_max_row = history.iloc[train_max_row_id + reachable_relative_step]\n",
    "            unreachable_max_row = history.iloc[train_max_row_id + unreachable_relative_step]\n",
    "            \n",
    "            performances['train'].append(train_max_row[train_data])\n",
    "            performances['reachable'].append(reachable_max_row[reachable_data])\n",
    "            performances['unreachable'].append(unreachable_max_row[unreachable_data])     \n",
    "        else:\n",
    "            print(\"Empty history for group: \", group, \" and dataset: \", dataset)\n",
    "\n",
    "        \n",
    "\n",
    "        # # history = run.history(samples=samples, keys=None, x_axis=\"_step\", pandas=(True), stream=\"default\")\n",
    "        # history = run.history(samples=200, pandas=True)\n",
    "        # train_performances = [r for r in history[train_data].tolist() if pd.notna(r)] # Why was this needed?\n",
    "        # # train_performances = history[train_data].tolist()\n",
    "        # reachable_performances = history[reachable_data].tolist()\n",
    "        # unreachable_performances = history[unreachable_data].tolist()\n",
    "        # history = run.history(samples=samples, keys=None, x_axis=\"_step\", pandas=(True), stream=\"default\")\n",
    "\n",
    "        # max_train_performance = max(train_performances)\n",
    "        # max_train_performance_step = train_performances.index(max_train_performance)\n",
    "        # print()\n",
    "        # print(max_train_performance_step)\n",
    "        # reachable_performance = -1\n",
    "        # if pd.isna(reachable_performances[max_train_performance_step]):\n",
    "        #     print(\"NAN in reachable performance for max train performance for group: \", group)\n",
    "        #     for i in range(max_train_performance_step+1, len(reachable_performances)):\n",
    "        #         if not pd.isna(reachable_performances[i]):\n",
    "        #             reachable_performance = reachable_performances[i]\n",
    "        #             break\n",
    "        # else:\n",
    "        #     reachable_performance = reachable_performances[max_train_performance_step]\n",
    "\n",
    "        # unreachable_performance = -1\n",
    "        # if pd.isna(unreachable_performances[max_train_performance_step]):\n",
    "        #     print(\"NAN in unreachable performance for max train performance for group: \", group)\n",
    "        #     for i in range(max_train_performance_step+1, len(unreachable_performances)):\n",
    "        #         if not pd.isna(unreachable_performances[i]):\n",
    "        #             unreachable_performance = unreachable_performances[i]\n",
    "        #             break\n",
    "        # else:\n",
    "        #     unreachable_performance = unreachable_performances[max_train_performance_step]\n",
    "\n",
    "        # if dataset not in performances[algo]:\n",
    "        #     performances[algo][dataset] = {}\n",
    "        #     performances[algo][dataset]['train'] = []\n",
    "        #     performances[algo][dataset]['reachable'] = []\n",
    "        #     performances[algo][dataset]['unreachable'] = []\n",
    "        # performances[algo][dataset]['train'].append(max_train_performance)\n",
    "        # performances[algo][dataset]['reachable'].append(reachable_performance)\n",
    "        # performances[algo][dataset]['unreachable'].append(unreachable_performance)\n",
    "\n",
    "        # performances[\"train\"].append(max_train_performance)\n",
    "        # performances[\"reachable\"].append(reachable_performance)\n",
    "        # performances[\"unreachable\"].append(unreachable_performance)\n",
    "\n",
    "        progress += 1\n",
    "        # print(f\"progress: {progress}/{len(filtered_runs)}\")\n",
    "    # print(\"\\n\")\n",
    "    return performances\n"
   ]
  },
  {
   "cell_type": "code",
   "execution_count": 3,
   "metadata": {},
   "outputs": [],
   "source": [
    "# for group in tqdm(groups):\n",
    "#     performances[group] = get_data(group, dataset)"
   ]
  },
  {
   "cell_type": "markdown",
   "metadata": {},
   "source": [
    "### plot mixed"
   ]
  },
  {
   "cell_type": "code",
   "execution_count": 21,
   "metadata": {},
   "outputs": [],
   "source": [
    "import matplotlib.pyplot as plt\n",
    "import plotly.io as pio\n",
    "import numpy as np\n",
    "import plotly.graph_objects as go\n",
    "import os\n",
    "\n",
    "def plot_mixed(performances, dataset, groups, title, wandb_name):\n",
    "    metrics = [\"train\", \"reachable\", \"unreachable\"]\n",
    "\n",
    "    fig = go.Figure()\n",
    "\n",
    "    x = np.arange(len(groups))  # the label locations\n",
    "    width = 0.25  # the width of the bars\n",
    "\n",
    "    mean_values = {metric: [] for metric in metrics}\n",
    "    stderr_values = {metric: [] for metric in metrics}\n",
    "\n",
    "    for group in groups:\n",
    "        for metric in metrics:\n",
    "            values = np.array(performances[group][metric])\n",
    "            mean = np.nanmean(values)\n",
    "            stderr = np.nanstd(values) / np.sqrt(len(values[~np.isnan(values)]))\n",
    "            mean_values[metric].append(mean)\n",
    "            stderr_values[metric].append(stderr)\n",
    "\n",
    "    fig.add_trace(go.Bar(\n",
    "        x=x - width/1.3, \n",
    "        y=mean_values['train'], \n",
    "        name='Training', \n",
    "        error_y=dict(type='data', array=stderr_values['train']),\n",
    "        marker_color='#1f77b4'\n",
    "    ))\n",
    "\n",
    "    fig.add_trace(go.Bar(\n",
    "        x=x, \n",
    "        y=mean_values['reachable'], \n",
    "        name='Reachable', \n",
    "        error_y=dict(type='data', array=stderr_values['reachable']),\n",
    "        marker_color='red'\n",
    "    ))\n",
    "\n",
    "    fig.add_trace(go.Bar(\n",
    "        x=x + width/1.3, \n",
    "        y=mean_values['unreachable'], \n",
    "        name='Unreachable', \n",
    "        error_y=dict(type='data', array=stderr_values['unreachable']),\n",
    "        marker_color='orange'\n",
    "    ))\n",
    "\n",
    "    fig.update_layout(\n",
    "        title=dict(text=\"<b>\"+title+\"</b>\", x=0.5,  xanchor='center', y=0.95, font=dict(size=16)),\n",
    "        xaxis=dict(\n",
    "            title=\"Algorithm\",\n",
    "            tickvals=x,\n",
    "            ticktext=groups,\n",
    "            titlefont=dict(size=15), tickfont=dict(size=14)\n",
    "        ),\n",
    "        yaxis=dict(title='Mean Reward', titlefont=dict(size=15), tickfont=dict(size=14), title_standoff=1,  range=[0, 1.01]),\n",
    "        barmode='overlay',\n",
    "        bargap=0, # gap between bars of adjacent location coordinates.\n",
    "        bargroupgap= 0.6, # gap between bars of the same location coordinate.\n",
    "        legend=dict(\n",
    "            # title=\"<b>Environment</b>\",\n",
    "            orientation=\"h\",\n",
    "            yanchor=\"top\",\n",
    "            font=dict(size=12),\n",
    "            y=1.1,\n",
    "            xanchor=\"center\",\n",
    "            bgcolor='rgba(0,0,0,0)',\n",
    "            x=0.5\n",
    "        ),\n",
    "        width=550, height=350,\n",
    "        margin={'t':60,'l':60,'b':0,'r':25}\n",
    "    )\n",
    "\n",
    "    # Log the plot to wandb\n",
    "    # wandb.init(project=\"plots\", entity=\"gold-ai\", config={\"group\": \"plots\", \"dataset\": dataset}, name=wandb_name)\n",
    "    # wandb.log({\"plot\": fig})\n",
    "    # wandb.finish()\n",
    "\n",
    "    if not os.path.exists(\"plots\"):\n",
    "        os.mkdir(\"plots\")\n",
    "\n",
    "    if not os.path.exists(\"plots/json\"):\n",
    "        os.mkdir(\"plots/json\")\n",
    "\n",
    "    if not os.path.exists(\"plots/html\"):\n",
    "        os.mkdir(\"plots/html\")\n",
    "\n",
    "    fig.write_image(f\"plots/{wandb_name}.png\")\n",
    "    pio.write_json(fig, f\"plots/json/{wandb_name}.json\")\n",
    "    fig.write_html(f\"plots/html/{wandb_name}.html\")\n",
    "\n",
    "\n"
   ]
  },
  {
   "cell_type": "code",
   "execution_count": 23,
   "metadata": {},
   "outputs": [
    {
     "data": {
      "application/vnd.jupyter.widget-view+json": {
       "model_id": "91a29e7e337242b784a3b01dff00cf77",
       "version_major": 2,
       "version_minor": 0
      },
      "text/plain": [
       "Datasets:   0%|          | 0/14 [00:00<?, ?it/s]"
      ]
     },
     "metadata": {},
     "output_type": "display_data"
    },
    {
     "name": "stdout",
     "output_type": "stream",
     "text": [
      "Dataset: 0, 25\n"
     ]
    },
    {
     "data": {
      "application/vnd.jupyter.widget-view+json": {
       "model_id": "0803ed198d37474289a99b5e89935e49",
       "version_major": 2,
       "version_minor": 0
      },
      "text/plain": [
       "Groups:   0%|          | 0/6 [00:00<?, ?it/s]"
      ]
     },
     "metadata": {},
     "output_type": "display_data"
    },
    {
     "name": "stdout",
     "output_type": "stream",
     "text": [
      "Group: BC\n",
      "Group: DT\n",
      "Group: CQL\n",
      "Group: IQL\n",
      "Group: SUNRISE\n",
      "Group: SAC-N\n",
      "Dataset: 50\n"
     ]
    },
    {
     "data": {
      "application/vnd.jupyter.widget-view+json": {
       "model_id": "e86e54893a3a43d8b40cc5c08d10b7c4",
       "version_major": 2,
       "version_minor": 0
      },
      "text/plain": [
       "Groups:   0%|          | 0/6 [00:00<?, ?it/s]"
      ]
     },
     "metadata": {},
     "output_type": "display_data"
    },
    {
     "name": "stdout",
     "output_type": "stream",
     "text": [
      "Group: BC\n",
      "Group: DT\n",
      "Group: CQL\n",
      "Group: IQL\n",
      "Group: SUNRISE\n",
      "Group: SAC-N\n",
      "Dataset: 0, 25, 50\n"
     ]
    },
    {
     "data": {
      "application/vnd.jupyter.widget-view+json": {
       "model_id": "e08e6aea937d466dac29a486c2f95f41",
       "version_major": 2,
       "version_minor": 0
      },
      "text/plain": [
       "Groups:   0%|          | 0/6 [00:00<?, ?it/s]"
      ]
     },
     "metadata": {},
     "output_type": "display_data"
    },
    {
     "name": "stdout",
     "output_type": "stream",
     "text": [
      "Group: BC\n",
      "Group: DT\n",
      "Group: CQL\n",
      "Group: IQL\n",
      "Group: SUNRISE\n",
      "Group: SAC-N\n",
      "Dataset: 0, 25, 50, 75\n"
     ]
    },
    {
     "data": {
      "application/vnd.jupyter.widget-view+json": {
       "model_id": "6dc0a73382ff4563916cc797b90f482c",
       "version_major": 2,
       "version_minor": 0
      },
      "text/plain": [
       "Groups:   0%|          | 0/6 [00:00<?, ?it/s]"
      ]
     },
     "metadata": {},
     "output_type": "display_data"
    },
    {
     "name": "stdout",
     "output_type": "stream",
     "text": [
      "Group: BC\n",
      "Group: DT\n",
      "Group: CQL\n",
      "Group: IQL\n",
      "Group: SUNRISE\n",
      "Group: SAC-N\n",
      "Dataset: 0\n"
     ]
    },
    {
     "data": {
      "application/vnd.jupyter.widget-view+json": {
       "model_id": "bec1057696264382a72ede5b0d46521f",
       "version_major": 2,
       "version_minor": 0
      },
      "text/plain": [
       "Groups:   0%|          | 0/6 [00:00<?, ?it/s]"
      ]
     },
     "metadata": {},
     "output_type": "display_data"
    },
    {
     "name": "stdout",
     "output_type": "stream",
     "text": [
      "Group: BC\n",
      "Group: DT\n",
      "Group: CQL\n",
      "Group: IQL\n",
      "Group: SUNRISE\n",
      "Group: SAC-N\n",
      "Dataset: 0, 50\n"
     ]
    },
    {
     "data": {
      "application/vnd.jupyter.widget-view+json": {
       "model_id": "1ff1e0e85c274fe3b33454ec40ed6e6d",
       "version_major": 2,
       "version_minor": 0
      },
      "text/plain": [
       "Groups:   0%|          | 0/6 [00:00<?, ?it/s]"
      ]
     },
     "metadata": {},
     "output_type": "display_data"
    },
    {
     "name": "stdout",
     "output_type": "stream",
     "text": [
      "Group: BC\n",
      "Group: DT\n",
      "Group: CQL\n",
      "Group: IQL\n",
      "Group: SUNRISE\n",
      "Group: SAC-N\n",
      "Dataset: 25\n"
     ]
    },
    {
     "data": {
      "application/vnd.jupyter.widget-view+json": {
       "model_id": "ab502ccd91f2461189359471dc61d0d7",
       "version_major": 2,
       "version_minor": 0
      },
      "text/plain": [
       "Groups:   0%|          | 0/6 [00:00<?, ?it/s]"
      ]
     },
     "metadata": {},
     "output_type": "display_data"
    },
    {
     "name": "stdout",
     "output_type": "stream",
     "text": [
      "Group: BC\n",
      "Group: DT\n",
      "Group: CQL\n",
      "Group: IQL\n",
      "Group: SUNRISE\n",
      "Group: SAC-N\n",
      "Dataset: 25, 50\n"
     ]
    },
    {
     "data": {
      "application/vnd.jupyter.widget-view+json": {
       "model_id": "bdea04466e694d44aa3ff098f677544c",
       "version_major": 2,
       "version_minor": 0
      },
      "text/plain": [
       "Groups:   0%|          | 0/6 [00:00<?, ?it/s]"
      ]
     },
     "metadata": {},
     "output_type": "display_data"
    },
    {
     "name": "stdout",
     "output_type": "stream",
     "text": [
      "Group: BC\n",
      "Group: DT\n",
      "Group: CQL\n",
      "Group: IQL\n",
      "Group: SUNRISE\n",
      "Group: SAC-N\n",
      "Dataset: 0, 75\n"
     ]
    },
    {
     "data": {
      "application/vnd.jupyter.widget-view+json": {
       "model_id": "722b91cf12994918bdc8ea7210c5fcce",
       "version_major": 2,
       "version_minor": 0
      },
      "text/plain": [
       "Groups:   0%|          | 0/6 [00:00<?, ?it/s]"
      ]
     },
     "metadata": {},
     "output_type": "display_data"
    },
    {
     "name": "stdout",
     "output_type": "stream",
     "text": [
      "Group: BC\n",
      "Group: DT\n",
      "Group: CQL\n",
      "Group: IQL\n",
      "Group: SUNRISE\n",
      "Group: SAC-N\n",
      "Dataset: 0, 0, 0, 0, 0\n"
     ]
    },
    {
     "data": {
      "application/vnd.jupyter.widget-view+json": {
       "model_id": "7a48406407654f36828034f965ff575a",
       "version_major": 2,
       "version_minor": 0
      },
      "text/plain": [
       "Groups:   0%|          | 0/6 [00:00<?, ?it/s]"
      ]
     },
     "metadata": {},
     "output_type": "display_data"
    },
    {
     "name": "stdout",
     "output_type": "stream",
     "text": [
      "Group: BC\n",
      "Group: DT\n",
      "Group: CQL\n",
      "Group: IQL\n",
      "Group: SUNRISE\n",
      "Group: SAC-N\n",
      "Dataset: 0, 0, 0, 25, 50\n"
     ]
    },
    {
     "data": {
      "application/vnd.jupyter.widget-view+json": {
       "model_id": "157d63f27f0442db934ee923b2f7d946",
       "version_major": 2,
       "version_minor": 0
      },
      "text/plain": [
       "Groups:   0%|          | 0/6 [00:00<?, ?it/s]"
      ]
     },
     "metadata": {},
     "output_type": "display_data"
    },
    {
     "name": "stdout",
     "output_type": "stream",
     "text": [
      "Group: BC\n",
      "Group: DT\n",
      "Group: CQL\n",
      "Group: IQL\n",
      "Group: SUNRISE\n",
      "Group: SAC-N\n",
      "Dataset: 0, 0, 0, 50, 75\n"
     ]
    },
    {
     "data": {
      "application/vnd.jupyter.widget-view+json": {
       "model_id": "a9ed3562f78b46fc9c483197817c3e4b",
       "version_major": 2,
       "version_minor": 0
      },
      "text/plain": [
       "Groups:   0%|          | 0/6 [00:00<?, ?it/s]"
      ]
     },
     "metadata": {},
     "output_type": "display_data"
    },
    {
     "name": "stdout",
     "output_type": "stream",
     "text": [
      "Group: BC\n",
      "Group: DT\n",
      "Group: CQL\n",
      "Group: IQL\n",
      "Group: SUNRISE\n",
      "Group: SAC-N\n",
      "Dataset: 0, 50, 100\n"
     ]
    },
    {
     "data": {
      "application/vnd.jupyter.widget-view+json": {
       "model_id": "c2ac6fc7e7a14c66a1ffa79ad91962ef",
       "version_major": 2,
       "version_minor": 0
      },
      "text/plain": [
       "Groups:   0%|          | 0/6 [00:00<?, ?it/s]"
      ]
     },
     "metadata": {},
     "output_type": "display_data"
    },
    {
     "name": "stdout",
     "output_type": "stream",
     "text": [
      "Group: BC\n",
      "Group: DT\n",
      "Group: CQL\n",
      "Group: IQL\n",
      "Group: SUNRISE\n",
      "Group: SAC-N\n",
      "Dataset: 0, 25, 50, 75, 100\n"
     ]
    },
    {
     "data": {
      "application/vnd.jupyter.widget-view+json": {
       "model_id": "a9bc0f5658184936b8a1876a263a0963",
       "version_major": 2,
       "version_minor": 0
      },
      "text/plain": [
       "Groups:   0%|          | 0/6 [00:00<?, ?it/s]"
      ]
     },
     "metadata": {},
     "output_type": "display_data"
    },
    {
     "name": "stdout",
     "output_type": "stream",
     "text": [
      "Group: BC\n",
      "Group: DT\n",
      "Group: CQL\n",
      "Group: IQL\n",
      "Group: SUNRISE\n",
      "Group: SAC-N\n"
     ]
    }
   ],
   "source": [
    "from tqdm.notebook import trange, tqdm\n",
    "groups = [\"BC\", \"DT\", \"CQL\", \"IQL\", \"SUNRISE\", \"SAC-N\"]\n",
    "datasets_interested_in = ['0, 25', '50', '0, 25, 50', '0, 25, 50, 75', '0', '0, 50', '25', '25, 50', '0, 75', '0, 0, 0, 0, 0', '0, 0, 0, 25, 50', '0, 0, 0, 50, 75', '0, 50, 100', '0, 25, 50, 75, 100']\n",
    "# datasets_interested_in = [\"0, 25, 50, 75, 100\"]\n",
    "\n",
    "def generate_title(dataset):\n",
    "    letters = []\n",
    "    for letter in dataset.split(\", \"):\n",
    "        if letter == \"0\":\n",
    "            letters.append(\"Expert\")\n",
    "        elif letter == \"25\":\n",
    "            letters.append(\"Advanced\")\n",
    "        elif letter == \"50\":\n",
    "            letters.append(\"Medium\")\n",
    "        elif letter == \"75\":\n",
    "            letters.append(\"Basic\")\n",
    "        elif letter == \"100\":\n",
    "            letters.append(\"Random\")\n",
    "    return \"+\".join(letters)\n",
    "\n",
    "for dataset in tqdm(datasets_interested_in, desc=\"Datasets\", position=0):\n",
    "    tqdm.write(f\"Dataset: {dataset}\")\n",
    "    performances = {}\n",
    "    title = generate_title(dataset)\n",
    "    for group in tqdm(groups, desc=\"Groups\", position=1, leave=False):\n",
    "        tqdm.write(f\"Group: {group}\")\n",
    "        performances[group] = get_data(group, dataset)\n",
    "    plot_mixed(performances, dataset, groups, title, f\"{dataset}-{title}\")\n"
   ]
  },
  {
   "cell_type": "markdown",
   "metadata": {},
   "source": [
    "### plot for presentation"
   ]
  },
  {
   "cell_type": "code",
   "execution_count": 59,
   "metadata": {},
   "outputs": [],
   "source": [
    "import matplotlib.pyplot as plt\n",
    "import plotly.io as pio\n",
    "import numpy as np\n",
    "import plotly.graph_objects as go\n",
    "import os\n",
    "from tqdm.notebook import tqdm\n",
    "from plotly.colors import sample_colorscale, sequential\n",
    "\n",
    "def plot_for_presentation(performances, datasets, groups, title):\n",
    "    \"\"\"only 3 datasets possible\"\"\"\n",
    "    fig = go.Figure()\n",
    "\n",
    "    x = np.arange(len(groups))  # the label locations\n",
    "    width = 0.25  # the width of the bars\n",
    "\n",
    "    mean_values = {}\n",
    "    mean_values['reachable'] = {}\n",
    "    mean_values['unreachable'] = {}\n",
    "    mean_values[\"reachable\"] = {dataset: [] for dataset in datasets}\n",
    "    mean_values[\"unreachable\"] = {dataset: [] for dataset in datasets}\n",
    "    # stderr_values = {dataset: [] for dataset in datasets}\n",
    "\n",
    "    for dataset in datasets:\n",
    "        for group in groups:\n",
    "            reachable_values = np.array(performances[group][dataset][\"reachable\"])\n",
    "            unreachable_values = np.array(performances[group][dataset][\"unreachable\"])\n",
    "            reachable_mean = np.nanmean(reachable_values)\n",
    "            unreachable_mean = np.nanmean(unreachable_values)\n",
    "            mean_values['reachable'][dataset].append(reachable_mean)\n",
    "            mean_values['unreachable'][dataset].append(unreachable_mean)\n",
    "\n",
    "    for i, metric in enumerate([\"reachable\", \"unreachable\"]):\n",
    "        color_scale = sequential.Mint\n",
    "        color1 = sample_colorscale(color_scale, 0.25)[0]\n",
    "        color2 = sample_colorscale(color_scale, 0.75)[0]\n",
    "\n",
    "        # Convert RGB to HEX format for Plotly\n",
    "        # color1 = rgb_to_hex(color1)\n",
    "        # color2 = rgb_to_hex(color2)\n",
    "\n",
    "        fig.add_trace(go.Bar(\n",
    "            x=x - width/1.3, \n",
    "            y=mean_values[metric][datasets[0]],\n",
    "            name=f'{dataset[0]}', \n",
    "            # error_y=dict(type='data', array=stderr_values['train']),\n",
    "            marker_color=color1 if i == 0 else color2\n",
    "        ))\n",
    "    for i, metric in enumerate([\"reachable\", \"unreachable\"]):\n",
    "        color_scale = sequential.Purp\n",
    "        color1 = sample_colorscale(color_scale, 0.25)[0]\n",
    "        color2 = sample_colorscale(color_scale, 0.75)[0]\n",
    "\n",
    "        # Convert RGB to HEX format for Plotly\n",
    "        # color1 = rgb_to_hex(color1)\n",
    "        # color2 = rgb_to_hex(color2)\n",
    "        fig.add_trace(go.Bar(\n",
    "            x=x, \n",
    "            y=mean_values[metric][datasets[1]], \n",
    "            name=f'{dataset}', \n",
    "            # error_y=dict(type='data', array=stderr_values['reachable']),\n",
    "            marker_color=color1 if i == 0 else color2\n",
    "        ))\n",
    "    for i, metric in enumerate([\"reachable\", \"unreachable\"]):\n",
    "        color_scale = sequential.Peach\n",
    "        color1 = sample_colorscale(color_scale, 0.25)[0]\n",
    "        color2 = sample_colorscale(color_scale, 0.75)[0]\n",
    "\n",
    "        # Convert RGB to HEX format for Plotly\n",
    "        # color1 = rgb_to_hex(color1)\n",
    "        # color2 = rgb_to_hex(color2)\n",
    "        fig.add_trace(go.Bar(\n",
    "            x=x + width/1.3, \n",
    "            y=mean_values[metric][datasets[2]],\n",
    "            name=f'{dataset[2]}', \n",
    "            # error_y=dict(type='data', array=stderr_values['unreachable']),\n",
    "            marker_color=color1 if i == 0 else color2\n",
    "        ))\n",
    "\n",
    "    fig.update_layout(\n",
    "        title=dict(text=\"<b>\"+title+\"</b>\", x=0.8, y=0.95, font=dict(size=16)),\n",
    "        xaxis=dict(\n",
    "            title=\"Algorithm\",\n",
    "            tickvals=x,\n",
    "            ticktext=groups,\n",
    "            titlefont=dict(size=15), tickfont=dict(size=14)\n",
    "        ),\n",
    "        yaxis=dict(title='Mean Reward', titlefont=dict(size=15), tickfont=dict(size=14), title_standoff=1),\n",
    "        barmode='overlay',\n",
    "        bargap=0, # gap between bars of adjacent location coordinates.\n",
    "        bargroupgap= 0.6, # gap between bars of the same location coordinate.\n",
    "        # legend=dict(\n",
    "        #     # title=\"<b>Environment</b>\",\n",
    "        #     orientation=\"h\",\n",
    "        #     yanchor=\"top\",\n",
    "        #     font=dict(size=12),\n",
    "        #     y=1.1,\n",
    "        #     xanchor=\"center\",\n",
    "        #     bgcolor='rgba(0,0,0,0)',\n",
    "        #     x=0.5\n",
    "        # ),\n",
    "        width=550, height=350,\n",
    "        margin={'t':60,'l':60,'b':0,'r':25}\n",
    "    )\n",
    "\n",
    "    # Log the plot to wandb\n",
    "    # wandb.init(project=\"plots\", entity=\"gold-ai\", config={\"group\": \"plots\", \"dataset\": dataset}, name=wandb_name)\n",
    "    # wandb.log({\"plot\": fig})\n",
    "    # wandb.finish()\n",
    "\n",
    "    if not os.path.exists(\"presentation_plots\"):\n",
    "        os.mkdir(\"presentation_plots\")\n",
    "\n",
    "    if not os.path.exists(\"presentation_plots/json\"):\n",
    "        os.mkdir(\"presentation_plots/json\")\n",
    "\n",
    "    if not os.path.exists(\"presentation_plots/html\"):\n",
    "        os.mkdir(\"presentation_plots/html\")\n",
    "\n",
    "    fig.write_image(f\"presentation_plots/{title}.png\")\n",
    "    pio.write_json(fig, f\"presentation_plots/json/{title}.json\")\n",
    "    fig.write_html(f\"presentation_plots/html/{title}.html\")\n",
    "\n",
    "    fig.show()\n",
    "\n"
   ]
  },
  {
   "cell_type": "code",
   "execution_count": 51,
   "metadata": {},
   "outputs": [
    {
     "data": {
      "application/vnd.jupyter.widget-view+json": {
       "model_id": "106d59a900604446b4273c3477794658",
       "version_major": 2,
       "version_minor": 0
      },
      "text/plain": [
       "Groups:   0%|          | 0/6 [00:00<?, ?it/s]"
      ]
     },
     "metadata": {},
     "output_type": "display_data"
    },
    {
     "data": {
      "application/vnd.jupyter.widget-view+json": {
       "model_id": "5fb73d146de8406f99f20053b6189687",
       "version_major": 2,
       "version_minor": 0
      },
      "text/plain": [
       "Datasets:   0%|          | 0/3 [00:00<?, ?it/s]"
      ]
     },
     "metadata": {},
     "output_type": "display_data"
    },
    {
     "data": {
      "application/vnd.jupyter.widget-view+json": {
       "model_id": "ea8ec8cd554a46a5b531da008f1b007a",
       "version_major": 2,
       "version_minor": 0
      },
      "text/plain": [
       "Datasets:   0%|          | 0/3 [00:00<?, ?it/s]"
      ]
     },
     "metadata": {},
     "output_type": "display_data"
    },
    {
     "data": {
      "application/vnd.jupyter.widget-view+json": {
       "model_id": "e66be34b1d274534976afe92d4c610f4",
       "version_major": 2,
       "version_minor": 0
      },
      "text/plain": [
       "Datasets:   0%|          | 0/3 [00:00<?, ?it/s]"
      ]
     },
     "metadata": {},
     "output_type": "display_data"
    },
    {
     "data": {
      "application/vnd.jupyter.widget-view+json": {
       "model_id": "e0c57c7abf7d40e6a45d5d7787b02596",
       "version_major": 2,
       "version_minor": 0
      },
      "text/plain": [
       "Datasets:   0%|          | 0/3 [00:00<?, ?it/s]"
      ]
     },
     "metadata": {},
     "output_type": "display_data"
    },
    {
     "data": {
      "application/vnd.jupyter.widget-view+json": {
       "model_id": "9a1ad28aa9cd41a18a17d13a6f0cbcce",
       "version_major": 2,
       "version_minor": 0
      },
      "text/plain": [
       "Datasets:   0%|          | 0/3 [00:00<?, ?it/s]"
      ]
     },
     "metadata": {},
     "output_type": "display_data"
    },
    {
     "data": {
      "application/vnd.jupyter.widget-view+json": {
       "model_id": "3bc14c0f770b4d09901cdad1341877fe",
       "version_major": 2,
       "version_minor": 0
      },
      "text/plain": [
       "Datasets:   0%|          | 0/3 [00:00<?, ?it/s]"
      ]
     },
     "metadata": {},
     "output_type": "display_data"
    }
   ],
   "source": [
    "# groups = [\"BC\", \"DT\", \"CQL\", \"IQL\", \"SUNRISE\", \"SAC-N\"]\n",
    "# datasets = [\"0\", \"0, 50\", \"0, 25, 50, 75, 100\"]\n",
    "# performances = {}\n",
    "# for group in tqdm(groups, desc=\"Groups\", position=0):\n",
    "#     performances[group] = {}\n",
    "#     for dataset in tqdm(datasets, desc=\"Datasets\", position=1):\n",
    "#         performances[group][dataset] = {}\n",
    "#         data = get_data(group, dataset)\n",
    "#         performances[group][dataset][\"reachable\"] = data[\"reachable\"]\n",
    "#         performances[group][dataset][\"unreachable\"] = data[\"unreachable\"]\n"
   ]
  },
  {
   "cell_type": "code",
   "execution_count": 60,
   "metadata": {},
   "outputs": [
    {
     "data": {
      "application/vnd.plotly.v1+json": {
       "config": {
        "plotlyServerURL": "https://plot.ly"
       },
       "data": [
        {
         "marker": {
          "color": "rgb(158, 204, 193)"
         },
         "name": "0",
         "type": "bar",
         "x": [
          -0.1923076923076923,
          0.8076923076923077,
          1.8076923076923077,
          2.8076923076923075,
          3.8076923076923075,
          4.8076923076923075
         ],
         "y": [
          0.4166666666666667,
          0.4000000000000001,
          0.25,
          0.65,
          0.35000000000000003,
          0.39999999999999997
         ]
        },
        {
         "marker": {
          "color": "rgb(54, 127, 127)"
         },
         "name": "0",
         "type": "bar",
         "x": [
          -0.1923076923076923,
          0.8076923076923077,
          1.8076923076923077,
          2.8076923076923075,
          3.8076923076923075,
          4.8076923076923075
         ],
         "y": [
          0.3333333333333333,
          0.34166666666666673,
          0.19166666666666665,
          0.5583333333333333,
          0.25,
          0.30833333333333335
         ]
        },
        {
         "marker": {
          "color": "rgb(218, 187, 236)"
         },
         "name": "0, 25, 50, 75, 100",
         "type": "bar",
         "x": [
          0,
          1,
          2,
          3,
          4,
          5
         ],
         "y": [
          0.39166666666666666,
          0.6,
          0.25,
          0.6333333333333333,
          0.31666666666666665,
          0.4000000000000001
         ]
        },
        {
         "marker": {
          "color": "rgb(144, 119, 196)"
         },
         "name": "0, 25, 50, 75, 100",
         "type": "bar",
         "x": [
          0,
          1,
          2,
          3,
          4,
          5
         ],
         "y": [
          0.375,
          0.525,
          0.19166666666666665,
          0.5083333333333333,
          0.26666666666666666,
          0.21666666666666667
         ]
        },
        {
         "marker": {
          "color": "rgb(249, 192, 152)"
         },
         "name": " ",
         "type": "bar",
         "x": [
          0.1923076923076923,
          1.1923076923076923,
          2.1923076923076925,
          3.1923076923076925,
          4.1923076923076925,
          5.1923076923076925
         ],
         "y": [
          0.3,
          0.39999999999999997,
          0.23333333333333336,
          0.38333333333333336,
          0.4916666666666667,
          0.4166666666666667
         ]
        },
        {
         "marker": {
          "color": "rgb(240, 120, 84)"
         },
         "name": " ",
         "type": "bar",
         "x": [
          0.1923076923076923,
          1.1923076923076923,
          2.1923076923076925,
          3.1923076923076925,
          4.1923076923076925,
          5.1923076923076925
         ],
         "y": [
          0.19999999999999998,
          0.3416666666666666,
          0.13333333333333333,
          0.35833333333333334,
          0.39166666666666666,
          0.3083333333333333
         ]
        }
       ],
       "layout": {
        "bargap": 0,
        "bargroupgap": 0.6,
        "barmode": "overlay",
        "height": 350,
        "margin": {
         "b": 0,
         "l": 60,
         "r": 25,
         "t": 60
        },
        "template": {
         "data": {
          "bar": [
           {
            "error_x": {
             "color": "#2a3f5f"
            },
            "error_y": {
             "color": "#2a3f5f"
            },
            "marker": {
             "line": {
              "color": "#E5ECF6",
              "width": 0.5
             },
             "pattern": {
              "fillmode": "overlay",
              "size": 10,
              "solidity": 0.2
             }
            },
            "type": "bar"
           }
          ],
          "barpolar": [
           {
            "marker": {
             "line": {
              "color": "#E5ECF6",
              "width": 0.5
             },
             "pattern": {
              "fillmode": "overlay",
              "size": 10,
              "solidity": 0.2
             }
            },
            "type": "barpolar"
           }
          ],
          "carpet": [
           {
            "aaxis": {
             "endlinecolor": "#2a3f5f",
             "gridcolor": "white",
             "linecolor": "white",
             "minorgridcolor": "white",
             "startlinecolor": "#2a3f5f"
            },
            "baxis": {
             "endlinecolor": "#2a3f5f",
             "gridcolor": "white",
             "linecolor": "white",
             "minorgridcolor": "white",
             "startlinecolor": "#2a3f5f"
            },
            "type": "carpet"
           }
          ],
          "choropleth": [
           {
            "colorbar": {
             "outlinewidth": 0,
             "ticks": ""
            },
            "type": "choropleth"
           }
          ],
          "contour": [
           {
            "colorbar": {
             "outlinewidth": 0,
             "ticks": ""
            },
            "colorscale": [
             [
              0,
              "#0d0887"
             ],
             [
              0.1111111111111111,
              "#46039f"
             ],
             [
              0.2222222222222222,
              "#7201a8"
             ],
             [
              0.3333333333333333,
              "#9c179e"
             ],
             [
              0.4444444444444444,
              "#bd3786"
             ],
             [
              0.5555555555555556,
              "#d8576b"
             ],
             [
              0.6666666666666666,
              "#ed7953"
             ],
             [
              0.7777777777777778,
              "#fb9f3a"
             ],
             [
              0.8888888888888888,
              "#fdca26"
             ],
             [
              1,
              "#f0f921"
             ]
            ],
            "type": "contour"
           }
          ],
          "contourcarpet": [
           {
            "colorbar": {
             "outlinewidth": 0,
             "ticks": ""
            },
            "type": "contourcarpet"
           }
          ],
          "heatmap": [
           {
            "colorbar": {
             "outlinewidth": 0,
             "ticks": ""
            },
            "colorscale": [
             [
              0,
              "#0d0887"
             ],
             [
              0.1111111111111111,
              "#46039f"
             ],
             [
              0.2222222222222222,
              "#7201a8"
             ],
             [
              0.3333333333333333,
              "#9c179e"
             ],
             [
              0.4444444444444444,
              "#bd3786"
             ],
             [
              0.5555555555555556,
              "#d8576b"
             ],
             [
              0.6666666666666666,
              "#ed7953"
             ],
             [
              0.7777777777777778,
              "#fb9f3a"
             ],
             [
              0.8888888888888888,
              "#fdca26"
             ],
             [
              1,
              "#f0f921"
             ]
            ],
            "type": "heatmap"
           }
          ],
          "heatmapgl": [
           {
            "colorbar": {
             "outlinewidth": 0,
             "ticks": ""
            },
            "colorscale": [
             [
              0,
              "#0d0887"
             ],
             [
              0.1111111111111111,
              "#46039f"
             ],
             [
              0.2222222222222222,
              "#7201a8"
             ],
             [
              0.3333333333333333,
              "#9c179e"
             ],
             [
              0.4444444444444444,
              "#bd3786"
             ],
             [
              0.5555555555555556,
              "#d8576b"
             ],
             [
              0.6666666666666666,
              "#ed7953"
             ],
             [
              0.7777777777777778,
              "#fb9f3a"
             ],
             [
              0.8888888888888888,
              "#fdca26"
             ],
             [
              1,
              "#f0f921"
             ]
            ],
            "type": "heatmapgl"
           }
          ],
          "histogram": [
           {
            "marker": {
             "pattern": {
              "fillmode": "overlay",
              "size": 10,
              "solidity": 0.2
             }
            },
            "type": "histogram"
           }
          ],
          "histogram2d": [
           {
            "colorbar": {
             "outlinewidth": 0,
             "ticks": ""
            },
            "colorscale": [
             [
              0,
              "#0d0887"
             ],
             [
              0.1111111111111111,
              "#46039f"
             ],
             [
              0.2222222222222222,
              "#7201a8"
             ],
             [
              0.3333333333333333,
              "#9c179e"
             ],
             [
              0.4444444444444444,
              "#bd3786"
             ],
             [
              0.5555555555555556,
              "#d8576b"
             ],
             [
              0.6666666666666666,
              "#ed7953"
             ],
             [
              0.7777777777777778,
              "#fb9f3a"
             ],
             [
              0.8888888888888888,
              "#fdca26"
             ],
             [
              1,
              "#f0f921"
             ]
            ],
            "type": "histogram2d"
           }
          ],
          "histogram2dcontour": [
           {
            "colorbar": {
             "outlinewidth": 0,
             "ticks": ""
            },
            "colorscale": [
             [
              0,
              "#0d0887"
             ],
             [
              0.1111111111111111,
              "#46039f"
             ],
             [
              0.2222222222222222,
              "#7201a8"
             ],
             [
              0.3333333333333333,
              "#9c179e"
             ],
             [
              0.4444444444444444,
              "#bd3786"
             ],
             [
              0.5555555555555556,
              "#d8576b"
             ],
             [
              0.6666666666666666,
              "#ed7953"
             ],
             [
              0.7777777777777778,
              "#fb9f3a"
             ],
             [
              0.8888888888888888,
              "#fdca26"
             ],
             [
              1,
              "#f0f921"
             ]
            ],
            "type": "histogram2dcontour"
           }
          ],
          "mesh3d": [
           {
            "colorbar": {
             "outlinewidth": 0,
             "ticks": ""
            },
            "type": "mesh3d"
           }
          ],
          "parcoords": [
           {
            "line": {
             "colorbar": {
              "outlinewidth": 0,
              "ticks": ""
             }
            },
            "type": "parcoords"
           }
          ],
          "pie": [
           {
            "automargin": true,
            "type": "pie"
           }
          ],
          "scatter": [
           {
            "fillpattern": {
             "fillmode": "overlay",
             "size": 10,
             "solidity": 0.2
            },
            "type": "scatter"
           }
          ],
          "scatter3d": [
           {
            "line": {
             "colorbar": {
              "outlinewidth": 0,
              "ticks": ""
             }
            },
            "marker": {
             "colorbar": {
              "outlinewidth": 0,
              "ticks": ""
             }
            },
            "type": "scatter3d"
           }
          ],
          "scattercarpet": [
           {
            "marker": {
             "colorbar": {
              "outlinewidth": 0,
              "ticks": ""
             }
            },
            "type": "scattercarpet"
           }
          ],
          "scattergeo": [
           {
            "marker": {
             "colorbar": {
              "outlinewidth": 0,
              "ticks": ""
             }
            },
            "type": "scattergeo"
           }
          ],
          "scattergl": [
           {
            "marker": {
             "colorbar": {
              "outlinewidth": 0,
              "ticks": ""
             }
            },
            "type": "scattergl"
           }
          ],
          "scattermapbox": [
           {
            "marker": {
             "colorbar": {
              "outlinewidth": 0,
              "ticks": ""
             }
            },
            "type": "scattermapbox"
           }
          ],
          "scatterpolar": [
           {
            "marker": {
             "colorbar": {
              "outlinewidth": 0,
              "ticks": ""
             }
            },
            "type": "scatterpolar"
           }
          ],
          "scatterpolargl": [
           {
            "marker": {
             "colorbar": {
              "outlinewidth": 0,
              "ticks": ""
             }
            },
            "type": "scatterpolargl"
           }
          ],
          "scatterternary": [
           {
            "marker": {
             "colorbar": {
              "outlinewidth": 0,
              "ticks": ""
             }
            },
            "type": "scatterternary"
           }
          ],
          "surface": [
           {
            "colorbar": {
             "outlinewidth": 0,
             "ticks": ""
            },
            "colorscale": [
             [
              0,
              "#0d0887"
             ],
             [
              0.1111111111111111,
              "#46039f"
             ],
             [
              0.2222222222222222,
              "#7201a8"
             ],
             [
              0.3333333333333333,
              "#9c179e"
             ],
             [
              0.4444444444444444,
              "#bd3786"
             ],
             [
              0.5555555555555556,
              "#d8576b"
             ],
             [
              0.6666666666666666,
              "#ed7953"
             ],
             [
              0.7777777777777778,
              "#fb9f3a"
             ],
             [
              0.8888888888888888,
              "#fdca26"
             ],
             [
              1,
              "#f0f921"
             ]
            ],
            "type": "surface"
           }
          ],
          "table": [
           {
            "cells": {
             "fill": {
              "color": "#EBF0F8"
             },
             "line": {
              "color": "white"
             }
            },
            "header": {
             "fill": {
              "color": "#C8D4E3"
             },
             "line": {
              "color": "white"
             }
            },
            "type": "table"
           }
          ]
         },
         "layout": {
          "annotationdefaults": {
           "arrowcolor": "#2a3f5f",
           "arrowhead": 0,
           "arrowwidth": 1
          },
          "autotypenumbers": "strict",
          "coloraxis": {
           "colorbar": {
            "outlinewidth": 0,
            "ticks": ""
           }
          },
          "colorscale": {
           "diverging": [
            [
             0,
             "#8e0152"
            ],
            [
             0.1,
             "#c51b7d"
            ],
            [
             0.2,
             "#de77ae"
            ],
            [
             0.3,
             "#f1b6da"
            ],
            [
             0.4,
             "#fde0ef"
            ],
            [
             0.5,
             "#f7f7f7"
            ],
            [
             0.6,
             "#e6f5d0"
            ],
            [
             0.7,
             "#b8e186"
            ],
            [
             0.8,
             "#7fbc41"
            ],
            [
             0.9,
             "#4d9221"
            ],
            [
             1,
             "#276419"
            ]
           ],
           "sequential": [
            [
             0,
             "#0d0887"
            ],
            [
             0.1111111111111111,
             "#46039f"
            ],
            [
             0.2222222222222222,
             "#7201a8"
            ],
            [
             0.3333333333333333,
             "#9c179e"
            ],
            [
             0.4444444444444444,
             "#bd3786"
            ],
            [
             0.5555555555555556,
             "#d8576b"
            ],
            [
             0.6666666666666666,
             "#ed7953"
            ],
            [
             0.7777777777777778,
             "#fb9f3a"
            ],
            [
             0.8888888888888888,
             "#fdca26"
            ],
            [
             1,
             "#f0f921"
            ]
           ],
           "sequentialminus": [
            [
             0,
             "#0d0887"
            ],
            [
             0.1111111111111111,
             "#46039f"
            ],
            [
             0.2222222222222222,
             "#7201a8"
            ],
            [
             0.3333333333333333,
             "#9c179e"
            ],
            [
             0.4444444444444444,
             "#bd3786"
            ],
            [
             0.5555555555555556,
             "#d8576b"
            ],
            [
             0.6666666666666666,
             "#ed7953"
            ],
            [
             0.7777777777777778,
             "#fb9f3a"
            ],
            [
             0.8888888888888888,
             "#fdca26"
            ],
            [
             1,
             "#f0f921"
            ]
           ]
          },
          "colorway": [
           "#636efa",
           "#EF553B",
           "#00cc96",
           "#ab63fa",
           "#FFA15A",
           "#19d3f3",
           "#FF6692",
           "#B6E880",
           "#FF97FF",
           "#FECB52"
          ],
          "font": {
           "color": "#2a3f5f"
          },
          "geo": {
           "bgcolor": "white",
           "lakecolor": "white",
           "landcolor": "#E5ECF6",
           "showlakes": true,
           "showland": true,
           "subunitcolor": "white"
          },
          "hoverlabel": {
           "align": "left"
          },
          "hovermode": "closest",
          "mapbox": {
           "style": "light"
          },
          "paper_bgcolor": "white",
          "plot_bgcolor": "#E5ECF6",
          "polar": {
           "angularaxis": {
            "gridcolor": "white",
            "linecolor": "white",
            "ticks": ""
           },
           "bgcolor": "#E5ECF6",
           "radialaxis": {
            "gridcolor": "white",
            "linecolor": "white",
            "ticks": ""
           }
          },
          "scene": {
           "xaxis": {
            "backgroundcolor": "#E5ECF6",
            "gridcolor": "white",
            "gridwidth": 2,
            "linecolor": "white",
            "showbackground": true,
            "ticks": "",
            "zerolinecolor": "white"
           },
           "yaxis": {
            "backgroundcolor": "#E5ECF6",
            "gridcolor": "white",
            "gridwidth": 2,
            "linecolor": "white",
            "showbackground": true,
            "ticks": "",
            "zerolinecolor": "white"
           },
           "zaxis": {
            "backgroundcolor": "#E5ECF6",
            "gridcolor": "white",
            "gridwidth": 2,
            "linecolor": "white",
            "showbackground": true,
            "ticks": "",
            "zerolinecolor": "white"
           }
          },
          "shapedefaults": {
           "line": {
            "color": "#2a3f5f"
           }
          },
          "ternary": {
           "aaxis": {
            "gridcolor": "white",
            "linecolor": "white",
            "ticks": ""
           },
           "baxis": {
            "gridcolor": "white",
            "linecolor": "white",
            "ticks": ""
           },
           "bgcolor": "#E5ECF6",
           "caxis": {
            "gridcolor": "white",
            "linecolor": "white",
            "ticks": ""
           }
          },
          "title": {
           "x": 0.05
          },
          "xaxis": {
           "automargin": true,
           "gridcolor": "white",
           "linecolor": "white",
           "ticks": "",
           "title": {
            "standoff": 15
           },
           "zerolinecolor": "white",
           "zerolinewidth": 2
          },
          "yaxis": {
           "automargin": true,
           "gridcolor": "white",
           "linecolor": "white",
           "ticks": "",
           "title": {
            "standoff": 15
           },
           "zerolinecolor": "white",
           "zerolinewidth": 2
          }
         }
        },
        "title": {
         "font": {
          "size": 16
         },
         "text": "<b>Expert vs Medium vs All</b>",
         "x": 0.8,
         "y": 0.95
        },
        "width": 550,
        "xaxis": {
         "tickfont": {
          "size": 14
         },
         "ticktext": [
          "BC",
          "DT",
          "CQL",
          "IQL",
          "SUNRISE",
          "SAC-N"
         ],
         "tickvals": [
          0,
          1,
          2,
          3,
          4,
          5
         ],
         "title": {
          "font": {
           "size": 15
          },
          "text": "Algorithm"
         }
        },
        "yaxis": {
         "tickfont": {
          "size": 14
         },
         "title": {
          "font": {
           "size": 15
          },
          "standoff": 1,
          "text": "Mean Reward"
         }
        }
       }
      }
     },
     "metadata": {},
     "output_type": "display_data"
    }
   ],
   "source": [
    "plot_for_presentation(performances, datasets, groups, \"Expert vs Medium vs All\")"
   ]
  },
  {
   "cell_type": "markdown",
   "metadata": {},
   "source": [
    "### read figures and change name"
   ]
  },
  {
   "cell_type": "code",
   "execution_count": 13,
   "metadata": {},
   "outputs": [
    {
     "data": {
      "application/vnd.plotly.v1+json": {
       "config": {
        "plotlyServerURL": "https://plot.ly"
       },
       "data": [
        {
         "error_y": {
          "array": [
           0.01178511301977579,
           0,
           0.0068041381743977085,
           0.01800205749557738,
           0.01800205749557738,
           0.011785113019775778
          ],
          "type": "data"
         },
         "marker": {
          "color": "#1f77b4"
         },
         "name": "Training",
         "type": "bar",
         "x": [
          -0.1923076923076923,
          0.8076923076923077,
          1.8076923076923077,
          2.8076923076923075,
          3.8076923076923075,
          4.8076923076923075
         ],
         "y": [
          0.44999999999999996,
          0.875,
          0.4083333333333334,
          0.5916666666666667,
          0.9416666666666665,
          0.9499999999999998
         ]
        },
        {
         "error_y": {
          "array": [
           0.061237243569579464,
           0.03118047822311618,
           0.018002057495577393,
           0.036004114991154794,
           0.02453266907313292,
           0.029658550700086973
          ],
          "type": "data"
         },
         "marker": {
          "color": "red"
         },
         "name": "Reachable",
         "type": "bar",
         "x": [
          0,
          1,
          2,
          3,
          4,
          5
         ],
         "y": [
          0.3,
          0.39999999999999997,
          0.23333333333333336,
          0.38333333333333336,
          0.4916666666666667,
          0.4166666666666667
         ]
        },
        {
         "error_y": {
          "array": [
           0.023570226039551587,
           0.024532669073132916,
           0.006804138174397716,
           0.013608276348795433,
           0.02965855070008698,
           0.03600411499115478
          ],
          "type": "data"
         },
         "marker": {
          "color": "orange"
         },
         "name": "Unreachable",
         "type": "bar",
         "x": [
          0.1923076923076923,
          1.1923076923076923,
          2.1923076923076925,
          3.1923076923076925,
          4.1923076923076925,
          5.1923076923076925
         ],
         "y": [
          0.19999999999999998,
          0.3416666666666666,
          0.13333333333333333,
          0.35833333333333334,
          0.39166666666666666,
          0.3083333333333333
         ]
        }
       ],
       "layout": {
        "bargap": 0,
        "bargroupgap": 0.6,
        "barmode": "overlay",
        "height": 350,
        "legend": {
         "bgcolor": "rgba(0,0,0,0)",
         "font": {
          "size": 12
         },
         "orientation": "h",
         "x": 0.5,
         "xanchor": "center",
         "y": 1.1,
         "yanchor": "top"
        },
        "margin": {
         "b": 0,
         "l": 60,
         "r": 25,
         "t": 60
        },
        "template": {
         "data": {
          "bar": [
           {
            "error_x": {
             "color": "#2a3f5f"
            },
            "error_y": {
             "color": "#2a3f5f"
            },
            "marker": {
             "line": {
              "color": "#E5ECF6",
              "width": 0.5
             },
             "pattern": {
              "fillmode": "overlay",
              "size": 10,
              "solidity": 0.2
             }
            },
            "type": "bar"
           }
          ],
          "barpolar": [
           {
            "marker": {
             "line": {
              "color": "#E5ECF6",
              "width": 0.5
             },
             "pattern": {
              "fillmode": "overlay",
              "size": 10,
              "solidity": 0.2
             }
            },
            "type": "barpolar"
           }
          ],
          "carpet": [
           {
            "aaxis": {
             "endlinecolor": "#2a3f5f",
             "gridcolor": "white",
             "linecolor": "white",
             "minorgridcolor": "white",
             "startlinecolor": "#2a3f5f"
            },
            "baxis": {
             "endlinecolor": "#2a3f5f",
             "gridcolor": "white",
             "linecolor": "white",
             "minorgridcolor": "white",
             "startlinecolor": "#2a3f5f"
            },
            "type": "carpet"
           }
          ],
          "choropleth": [
           {
            "colorbar": {
             "outlinewidth": 0,
             "ticks": ""
            },
            "type": "choropleth"
           }
          ],
          "contour": [
           {
            "colorbar": {
             "outlinewidth": 0,
             "ticks": ""
            },
            "colorscale": [
             [
              0,
              "#0d0887"
             ],
             [
              0.1111111111111111,
              "#46039f"
             ],
             [
              0.2222222222222222,
              "#7201a8"
             ],
             [
              0.3333333333333333,
              "#9c179e"
             ],
             [
              0.4444444444444444,
              "#bd3786"
             ],
             [
              0.5555555555555556,
              "#d8576b"
             ],
             [
              0.6666666666666666,
              "#ed7953"
             ],
             [
              0.7777777777777778,
              "#fb9f3a"
             ],
             [
              0.8888888888888888,
              "#fdca26"
             ],
             [
              1,
              "#f0f921"
             ]
            ],
            "type": "contour"
           }
          ],
          "contourcarpet": [
           {
            "colorbar": {
             "outlinewidth": 0,
             "ticks": ""
            },
            "type": "contourcarpet"
           }
          ],
          "heatmap": [
           {
            "colorbar": {
             "outlinewidth": 0,
             "ticks": ""
            },
            "colorscale": [
             [
              0,
              "#0d0887"
             ],
             [
              0.1111111111111111,
              "#46039f"
             ],
             [
              0.2222222222222222,
              "#7201a8"
             ],
             [
              0.3333333333333333,
              "#9c179e"
             ],
             [
              0.4444444444444444,
              "#bd3786"
             ],
             [
              0.5555555555555556,
              "#d8576b"
             ],
             [
              0.6666666666666666,
              "#ed7953"
             ],
             [
              0.7777777777777778,
              "#fb9f3a"
             ],
             [
              0.8888888888888888,
              "#fdca26"
             ],
             [
              1,
              "#f0f921"
             ]
            ],
            "type": "heatmap"
           }
          ],
          "heatmapgl": [
           {
            "colorbar": {
             "outlinewidth": 0,
             "ticks": ""
            },
            "colorscale": [
             [
              0,
              "#0d0887"
             ],
             [
              0.1111111111111111,
              "#46039f"
             ],
             [
              0.2222222222222222,
              "#7201a8"
             ],
             [
              0.3333333333333333,
              "#9c179e"
             ],
             [
              0.4444444444444444,
              "#bd3786"
             ],
             [
              0.5555555555555556,
              "#d8576b"
             ],
             [
              0.6666666666666666,
              "#ed7953"
             ],
             [
              0.7777777777777778,
              "#fb9f3a"
             ],
             [
              0.8888888888888888,
              "#fdca26"
             ],
             [
              1,
              "#f0f921"
             ]
            ],
            "type": "heatmapgl"
           }
          ],
          "histogram": [
           {
            "marker": {
             "pattern": {
              "fillmode": "overlay",
              "size": 10,
              "solidity": 0.2
             }
            },
            "type": "histogram"
           }
          ],
          "histogram2d": [
           {
            "colorbar": {
             "outlinewidth": 0,
             "ticks": ""
            },
            "colorscale": [
             [
              0,
              "#0d0887"
             ],
             [
              0.1111111111111111,
              "#46039f"
             ],
             [
              0.2222222222222222,
              "#7201a8"
             ],
             [
              0.3333333333333333,
              "#9c179e"
             ],
             [
              0.4444444444444444,
              "#bd3786"
             ],
             [
              0.5555555555555556,
              "#d8576b"
             ],
             [
              0.6666666666666666,
              "#ed7953"
             ],
             [
              0.7777777777777778,
              "#fb9f3a"
             ],
             [
              0.8888888888888888,
              "#fdca26"
             ],
             [
              1,
              "#f0f921"
             ]
            ],
            "type": "histogram2d"
           }
          ],
          "histogram2dcontour": [
           {
            "colorbar": {
             "outlinewidth": 0,
             "ticks": ""
            },
            "colorscale": [
             [
              0,
              "#0d0887"
             ],
             [
              0.1111111111111111,
              "#46039f"
             ],
             [
              0.2222222222222222,
              "#7201a8"
             ],
             [
              0.3333333333333333,
              "#9c179e"
             ],
             [
              0.4444444444444444,
              "#bd3786"
             ],
             [
              0.5555555555555556,
              "#d8576b"
             ],
             [
              0.6666666666666666,
              "#ed7953"
             ],
             [
              0.7777777777777778,
              "#fb9f3a"
             ],
             [
              0.8888888888888888,
              "#fdca26"
             ],
             [
              1,
              "#f0f921"
             ]
            ],
            "type": "histogram2dcontour"
           }
          ],
          "mesh3d": [
           {
            "colorbar": {
             "outlinewidth": 0,
             "ticks": ""
            },
            "type": "mesh3d"
           }
          ],
          "parcoords": [
           {
            "line": {
             "colorbar": {
              "outlinewidth": 0,
              "ticks": ""
             }
            },
            "type": "parcoords"
           }
          ],
          "pie": [
           {
            "automargin": true,
            "type": "pie"
           }
          ],
          "scatter": [
           {
            "fillpattern": {
             "fillmode": "overlay",
             "size": 10,
             "solidity": 0.2
            },
            "type": "scatter"
           }
          ],
          "scatter3d": [
           {
            "line": {
             "colorbar": {
              "outlinewidth": 0,
              "ticks": ""
             }
            },
            "marker": {
             "colorbar": {
              "outlinewidth": 0,
              "ticks": ""
             }
            },
            "type": "scatter3d"
           }
          ],
          "scattercarpet": [
           {
            "marker": {
             "colorbar": {
              "outlinewidth": 0,
              "ticks": ""
             }
            },
            "type": "scattercarpet"
           }
          ],
          "scattergeo": [
           {
            "marker": {
             "colorbar": {
              "outlinewidth": 0,
              "ticks": ""
             }
            },
            "type": "scattergeo"
           }
          ],
          "scattergl": [
           {
            "marker": {
             "colorbar": {
              "outlinewidth": 0,
              "ticks": ""
             }
            },
            "type": "scattergl"
           }
          ],
          "scattermapbox": [
           {
            "marker": {
             "colorbar": {
              "outlinewidth": 0,
              "ticks": ""
             }
            },
            "type": "scattermapbox"
           }
          ],
          "scatterpolar": [
           {
            "marker": {
             "colorbar": {
              "outlinewidth": 0,
              "ticks": ""
             }
            },
            "type": "scatterpolar"
           }
          ],
          "scatterpolargl": [
           {
            "marker": {
             "colorbar": {
              "outlinewidth": 0,
              "ticks": ""
             }
            },
            "type": "scatterpolargl"
           }
          ],
          "scatterternary": [
           {
            "marker": {
             "colorbar": {
              "outlinewidth": 0,
              "ticks": ""
             }
            },
            "type": "scatterternary"
           }
          ],
          "surface": [
           {
            "colorbar": {
             "outlinewidth": 0,
             "ticks": ""
            },
            "colorscale": [
             [
              0,
              "#0d0887"
             ],
             [
              0.1111111111111111,
              "#46039f"
             ],
             [
              0.2222222222222222,
              "#7201a8"
             ],
             [
              0.3333333333333333,
              "#9c179e"
             ],
             [
              0.4444444444444444,
              "#bd3786"
             ],
             [
              0.5555555555555556,
              "#d8576b"
             ],
             [
              0.6666666666666666,
              "#ed7953"
             ],
             [
              0.7777777777777778,
              "#fb9f3a"
             ],
             [
              0.8888888888888888,
              "#fdca26"
             ],
             [
              1,
              "#f0f921"
             ]
            ],
            "type": "surface"
           }
          ],
          "table": [
           {
            "cells": {
             "fill": {
              "color": "#EBF0F8"
             },
             "line": {
              "color": "white"
             }
            },
            "header": {
             "fill": {
              "color": "#C8D4E3"
             },
             "line": {
              "color": "white"
             }
            },
            "type": "table"
           }
          ]
         },
         "layout": {
          "annotationdefaults": {
           "arrowcolor": "#2a3f5f",
           "arrowhead": 0,
           "arrowwidth": 1
          },
          "autotypenumbers": "strict",
          "coloraxis": {
           "colorbar": {
            "outlinewidth": 0,
            "ticks": ""
           }
          },
          "colorscale": {
           "diverging": [
            [
             0,
             "#8e0152"
            ],
            [
             0.1,
             "#c51b7d"
            ],
            [
             0.2,
             "#de77ae"
            ],
            [
             0.3,
             "#f1b6da"
            ],
            [
             0.4,
             "#fde0ef"
            ],
            [
             0.5,
             "#f7f7f7"
            ],
            [
             0.6,
             "#e6f5d0"
            ],
            [
             0.7,
             "#b8e186"
            ],
            [
             0.8,
             "#7fbc41"
            ],
            [
             0.9,
             "#4d9221"
            ],
            [
             1,
             "#276419"
            ]
           ],
           "sequential": [
            [
             0,
             "#0d0887"
            ],
            [
             0.1111111111111111,
             "#46039f"
            ],
            [
             0.2222222222222222,
             "#7201a8"
            ],
            [
             0.3333333333333333,
             "#9c179e"
            ],
            [
             0.4444444444444444,
             "#bd3786"
            ],
            [
             0.5555555555555556,
             "#d8576b"
            ],
            [
             0.6666666666666666,
             "#ed7953"
            ],
            [
             0.7777777777777778,
             "#fb9f3a"
            ],
            [
             0.8888888888888888,
             "#fdca26"
            ],
            [
             1,
             "#f0f921"
            ]
           ],
           "sequentialminus": [
            [
             0,
             "#0d0887"
            ],
            [
             0.1111111111111111,
             "#46039f"
            ],
            [
             0.2222222222222222,
             "#7201a8"
            ],
            [
             0.3333333333333333,
             "#9c179e"
            ],
            [
             0.4444444444444444,
             "#bd3786"
            ],
            [
             0.5555555555555556,
             "#d8576b"
            ],
            [
             0.6666666666666666,
             "#ed7953"
            ],
            [
             0.7777777777777778,
             "#fb9f3a"
            ],
            [
             0.8888888888888888,
             "#fdca26"
            ],
            [
             1,
             "#f0f921"
            ]
           ]
          },
          "colorway": [
           "#636efa",
           "#EF553B",
           "#00cc96",
           "#ab63fa",
           "#FFA15A",
           "#19d3f3",
           "#FF6692",
           "#B6E880",
           "#FF97FF",
           "#FECB52"
          ],
          "font": {
           "color": "#2a3f5f"
          },
          "geo": {
           "bgcolor": "white",
           "lakecolor": "white",
           "landcolor": "#E5ECF6",
           "showlakes": true,
           "showland": true,
           "subunitcolor": "white"
          },
          "hoverlabel": {
           "align": "left"
          },
          "hovermode": "closest",
          "mapbox": {
           "style": "light"
          },
          "paper_bgcolor": "white",
          "plot_bgcolor": "#E5ECF6",
          "polar": {
           "angularaxis": {
            "gridcolor": "white",
            "linecolor": "white",
            "ticks": ""
           },
           "bgcolor": "#E5ECF6",
           "radialaxis": {
            "gridcolor": "white",
            "linecolor": "white",
            "ticks": ""
           }
          },
          "scene": {
           "xaxis": {
            "backgroundcolor": "#E5ECF6",
            "gridcolor": "white",
            "gridwidth": 2,
            "linecolor": "white",
            "showbackground": true,
            "ticks": "",
            "zerolinecolor": "white"
           },
           "yaxis": {
            "backgroundcolor": "#E5ECF6",
            "gridcolor": "white",
            "gridwidth": 2,
            "linecolor": "white",
            "showbackground": true,
            "ticks": "",
            "zerolinecolor": "white"
           },
           "zaxis": {
            "backgroundcolor": "#E5ECF6",
            "gridcolor": "white",
            "gridwidth": 2,
            "linecolor": "white",
            "showbackground": true,
            "ticks": "",
            "zerolinecolor": "white"
           }
          },
          "shapedefaults": {
           "line": {
            "color": "#2a3f5f"
           }
          },
          "ternary": {
           "aaxis": {
            "gridcolor": "white",
            "linecolor": "white",
            "ticks": ""
           },
           "baxis": {
            "gridcolor": "white",
            "linecolor": "white",
            "ticks": ""
           },
           "bgcolor": "#E5ECF6",
           "caxis": {
            "gridcolor": "white",
            "linecolor": "white",
            "ticks": ""
           }
          },
          "title": {
           "x": 0.05
          },
          "xaxis": {
           "automargin": true,
           "gridcolor": "white",
           "linecolor": "white",
           "ticks": "",
           "title": {
            "standoff": 15
           },
           "zerolinecolor": "white",
           "zerolinewidth": 2
          },
          "yaxis": {
           "automargin": true,
           "gridcolor": "white",
           "linecolor": "white",
           "ticks": "",
           "title": {
            "standoff": 15
           },
           "zerolinecolor": "white",
           "zerolinewidth": 2
          }
         }
        },
        "title": {
         "text": "Updated Title"
        },
        "width": 550,
        "xaxis": {
         "tickfont": {
          "size": 14
         },
         "ticktext": [
          "BC",
          "DT",
          "CQL",
          "IQL",
          "SUNRISE",
          "SAC-N"
         ],
         "tickvals": [
          0,
          1,
          2,
          3,
          4,
          5
         ],
         "title": {
          "text": "Updated X-axis Title"
         }
        },
        "yaxis": {
         "tickfont": {
          "size": 14
         },
         "title": {
          "text": "Updated Y-axis Title"
         }
        }
       }
      }
     },
     "metadata": {},
     "output_type": "display_data"
    }
   ],
   "source": [
    "# import plotly.graph_objs as go\n",
    "# import plotly.io as pio\n",
    "\n",
    "# fig = pio.read_json('plots/json/0, 25, 50, 75, 100.json')\n",
    "# fig.update_layout(\n",
    "#     title='Updated Title',\n",
    "#     xaxis=dict(title='Updated X-axis Title'),\n",
    "#     yaxis=dict(title='Updated Y-axis Title')\n",
    "# )\n",
    "# fig.show()"
   ]
  },
  {
   "cell_type": "markdown",
   "metadata": {},
   "source": [
    "### plot expert"
   ]
  },
  {
   "cell_type": "code",
   "execution_count": 294,
   "metadata": {},
   "outputs": [
    {
     "data": {
      "application/vnd.plotly.v1+json": {
       "config": {
        "plotlyServerURL": "https://plot.ly"
       },
       "data": [
        {
         "error_y": {
          "array": [
           0.013608276348795417,
           0,
           0.006804138174397724,
           0.006804138174397723,
           0.037883838047182934,
           0.02041241452319314
          ],
          "type": "data"
         },
         "marker": {
          "color": "#1f77b4"
         },
         "name": "Training",
         "type": "bar",
         "x": [
          -0.1923076923076923,
          0.8076923076923077,
          1.8076923076923077,
          2.8076923076923075,
          3.8076923076923075,
          4.8076923076923075
         ],
         "y": [
          0.9166666666666666,
          1,
          0.8916666666666666,
          0.9916666666666667,
          0.8333333333333334,
          0.85
         ]
        },
        {
         "error_y": {
          "array": [
           0.05443310539518175,
           0.05892556509887897,
           0.02041241452319315,
           0.07359800721939873,
           0.047140452079103175,
           0.04082482904638631
          ],
          "type": "data"
         },
         "marker": {
          "color": "red"
         },
         "name": "Reachable",
         "type": "bar",
         "x": [
          0,
          1,
          2,
          3,
          4,
          5
         ],
         "y": [
          0.4166666666666667,
          0.4000000000000001,
          0.25,
          0.65,
          0.35000000000000003,
          0.39999999999999997
         ]
        },
        {
         "error_y": {
          "array": [
           0.018002057495577393,
           0.05931710140017395,
           0.006804138174397724,
           0.029658550700086973,
           0.02041241452319315,
           0.006804138174397724
          ],
          "type": "data"
         },
         "marker": {
          "color": "orange"
         },
         "name": "Unreachable",
         "type": "bar",
         "x": [
          0.1923076923076923,
          1.1923076923076923,
          2.1923076923076925,
          3.1923076923076925,
          4.1923076923076925,
          5.1923076923076925
         ],
         "y": [
          0.3333333333333333,
          0.34166666666666673,
          0.19166666666666665,
          0.5583333333333333,
          0.25,
          0.30833333333333335
         ]
        }
       ],
       "layout": {
        "bargap": 0,
        "bargroupgap": 0.6,
        "barmode": "overlay",
        "height": 350,
        "legend": {
         "bgcolor": "rgba(0,0,0,0)",
         "font": {
          "size": 12
         },
         "orientation": "h",
         "x": 0.5,
         "xanchor": "center",
         "y": 1.1,
         "yanchor": "top"
        },
        "margin": {
         "b": 0,
         "l": 60,
         "r": 25,
         "t": 60
        },
        "template": {
         "data": {
          "bar": [
           {
            "error_x": {
             "color": "#2a3f5f"
            },
            "error_y": {
             "color": "#2a3f5f"
            },
            "marker": {
             "line": {
              "color": "#E5ECF6",
              "width": 0.5
             },
             "pattern": {
              "fillmode": "overlay",
              "size": 10,
              "solidity": 0.2
             }
            },
            "type": "bar"
           }
          ],
          "barpolar": [
           {
            "marker": {
             "line": {
              "color": "#E5ECF6",
              "width": 0.5
             },
             "pattern": {
              "fillmode": "overlay",
              "size": 10,
              "solidity": 0.2
             }
            },
            "type": "barpolar"
           }
          ],
          "carpet": [
           {
            "aaxis": {
             "endlinecolor": "#2a3f5f",
             "gridcolor": "white",
             "linecolor": "white",
             "minorgridcolor": "white",
             "startlinecolor": "#2a3f5f"
            },
            "baxis": {
             "endlinecolor": "#2a3f5f",
             "gridcolor": "white",
             "linecolor": "white",
             "minorgridcolor": "white",
             "startlinecolor": "#2a3f5f"
            },
            "type": "carpet"
           }
          ],
          "choropleth": [
           {
            "colorbar": {
             "outlinewidth": 0,
             "ticks": ""
            },
            "type": "choropleth"
           }
          ],
          "contour": [
           {
            "colorbar": {
             "outlinewidth": 0,
             "ticks": ""
            },
            "colorscale": [
             [
              0,
              "#0d0887"
             ],
             [
              0.1111111111111111,
              "#46039f"
             ],
             [
              0.2222222222222222,
              "#7201a8"
             ],
             [
              0.3333333333333333,
              "#9c179e"
             ],
             [
              0.4444444444444444,
              "#bd3786"
             ],
             [
              0.5555555555555556,
              "#d8576b"
             ],
             [
              0.6666666666666666,
              "#ed7953"
             ],
             [
              0.7777777777777778,
              "#fb9f3a"
             ],
             [
              0.8888888888888888,
              "#fdca26"
             ],
             [
              1,
              "#f0f921"
             ]
            ],
            "type": "contour"
           }
          ],
          "contourcarpet": [
           {
            "colorbar": {
             "outlinewidth": 0,
             "ticks": ""
            },
            "type": "contourcarpet"
           }
          ],
          "heatmap": [
           {
            "colorbar": {
             "outlinewidth": 0,
             "ticks": ""
            },
            "colorscale": [
             [
              0,
              "#0d0887"
             ],
             [
              0.1111111111111111,
              "#46039f"
             ],
             [
              0.2222222222222222,
              "#7201a8"
             ],
             [
              0.3333333333333333,
              "#9c179e"
             ],
             [
              0.4444444444444444,
              "#bd3786"
             ],
             [
              0.5555555555555556,
              "#d8576b"
             ],
             [
              0.6666666666666666,
              "#ed7953"
             ],
             [
              0.7777777777777778,
              "#fb9f3a"
             ],
             [
              0.8888888888888888,
              "#fdca26"
             ],
             [
              1,
              "#f0f921"
             ]
            ],
            "type": "heatmap"
           }
          ],
          "heatmapgl": [
           {
            "colorbar": {
             "outlinewidth": 0,
             "ticks": ""
            },
            "colorscale": [
             [
              0,
              "#0d0887"
             ],
             [
              0.1111111111111111,
              "#46039f"
             ],
             [
              0.2222222222222222,
              "#7201a8"
             ],
             [
              0.3333333333333333,
              "#9c179e"
             ],
             [
              0.4444444444444444,
              "#bd3786"
             ],
             [
              0.5555555555555556,
              "#d8576b"
             ],
             [
              0.6666666666666666,
              "#ed7953"
             ],
             [
              0.7777777777777778,
              "#fb9f3a"
             ],
             [
              0.8888888888888888,
              "#fdca26"
             ],
             [
              1,
              "#f0f921"
             ]
            ],
            "type": "heatmapgl"
           }
          ],
          "histogram": [
           {
            "marker": {
             "pattern": {
              "fillmode": "overlay",
              "size": 10,
              "solidity": 0.2
             }
            },
            "type": "histogram"
           }
          ],
          "histogram2d": [
           {
            "colorbar": {
             "outlinewidth": 0,
             "ticks": ""
            },
            "colorscale": [
             [
              0,
              "#0d0887"
             ],
             [
              0.1111111111111111,
              "#46039f"
             ],
             [
              0.2222222222222222,
              "#7201a8"
             ],
             [
              0.3333333333333333,
              "#9c179e"
             ],
             [
              0.4444444444444444,
              "#bd3786"
             ],
             [
              0.5555555555555556,
              "#d8576b"
             ],
             [
              0.6666666666666666,
              "#ed7953"
             ],
             [
              0.7777777777777778,
              "#fb9f3a"
             ],
             [
              0.8888888888888888,
              "#fdca26"
             ],
             [
              1,
              "#f0f921"
             ]
            ],
            "type": "histogram2d"
           }
          ],
          "histogram2dcontour": [
           {
            "colorbar": {
             "outlinewidth": 0,
             "ticks": ""
            },
            "colorscale": [
             [
              0,
              "#0d0887"
             ],
             [
              0.1111111111111111,
              "#46039f"
             ],
             [
              0.2222222222222222,
              "#7201a8"
             ],
             [
              0.3333333333333333,
              "#9c179e"
             ],
             [
              0.4444444444444444,
              "#bd3786"
             ],
             [
              0.5555555555555556,
              "#d8576b"
             ],
             [
              0.6666666666666666,
              "#ed7953"
             ],
             [
              0.7777777777777778,
              "#fb9f3a"
             ],
             [
              0.8888888888888888,
              "#fdca26"
             ],
             [
              1,
              "#f0f921"
             ]
            ],
            "type": "histogram2dcontour"
           }
          ],
          "mesh3d": [
           {
            "colorbar": {
             "outlinewidth": 0,
             "ticks": ""
            },
            "type": "mesh3d"
           }
          ],
          "parcoords": [
           {
            "line": {
             "colorbar": {
              "outlinewidth": 0,
              "ticks": ""
             }
            },
            "type": "parcoords"
           }
          ],
          "pie": [
           {
            "automargin": true,
            "type": "pie"
           }
          ],
          "scatter": [
           {
            "fillpattern": {
             "fillmode": "overlay",
             "size": 10,
             "solidity": 0.2
            },
            "type": "scatter"
           }
          ],
          "scatter3d": [
           {
            "line": {
             "colorbar": {
              "outlinewidth": 0,
              "ticks": ""
             }
            },
            "marker": {
             "colorbar": {
              "outlinewidth": 0,
              "ticks": ""
             }
            },
            "type": "scatter3d"
           }
          ],
          "scattercarpet": [
           {
            "marker": {
             "colorbar": {
              "outlinewidth": 0,
              "ticks": ""
             }
            },
            "type": "scattercarpet"
           }
          ],
          "scattergeo": [
           {
            "marker": {
             "colorbar": {
              "outlinewidth": 0,
              "ticks": ""
             }
            },
            "type": "scattergeo"
           }
          ],
          "scattergl": [
           {
            "marker": {
             "colorbar": {
              "outlinewidth": 0,
              "ticks": ""
             }
            },
            "type": "scattergl"
           }
          ],
          "scattermapbox": [
           {
            "marker": {
             "colorbar": {
              "outlinewidth": 0,
              "ticks": ""
             }
            },
            "type": "scattermapbox"
           }
          ],
          "scatterpolar": [
           {
            "marker": {
             "colorbar": {
              "outlinewidth": 0,
              "ticks": ""
             }
            },
            "type": "scatterpolar"
           }
          ],
          "scatterpolargl": [
           {
            "marker": {
             "colorbar": {
              "outlinewidth": 0,
              "ticks": ""
             }
            },
            "type": "scatterpolargl"
           }
          ],
          "scatterternary": [
           {
            "marker": {
             "colorbar": {
              "outlinewidth": 0,
              "ticks": ""
             }
            },
            "type": "scatterternary"
           }
          ],
          "surface": [
           {
            "colorbar": {
             "outlinewidth": 0,
             "ticks": ""
            },
            "colorscale": [
             [
              0,
              "#0d0887"
             ],
             [
              0.1111111111111111,
              "#46039f"
             ],
             [
              0.2222222222222222,
              "#7201a8"
             ],
             [
              0.3333333333333333,
              "#9c179e"
             ],
             [
              0.4444444444444444,
              "#bd3786"
             ],
             [
              0.5555555555555556,
              "#d8576b"
             ],
             [
              0.6666666666666666,
              "#ed7953"
             ],
             [
              0.7777777777777778,
              "#fb9f3a"
             ],
             [
              0.8888888888888888,
              "#fdca26"
             ],
             [
              1,
              "#f0f921"
             ]
            ],
            "type": "surface"
           }
          ],
          "table": [
           {
            "cells": {
             "fill": {
              "color": "#EBF0F8"
             },
             "line": {
              "color": "white"
             }
            },
            "header": {
             "fill": {
              "color": "#C8D4E3"
             },
             "line": {
              "color": "white"
             }
            },
            "type": "table"
           }
          ]
         },
         "layout": {
          "annotationdefaults": {
           "arrowcolor": "#2a3f5f",
           "arrowhead": 0,
           "arrowwidth": 1
          },
          "autotypenumbers": "strict",
          "coloraxis": {
           "colorbar": {
            "outlinewidth": 0,
            "ticks": ""
           }
          },
          "colorscale": {
           "diverging": [
            [
             0,
             "#8e0152"
            ],
            [
             0.1,
             "#c51b7d"
            ],
            [
             0.2,
             "#de77ae"
            ],
            [
             0.3,
             "#f1b6da"
            ],
            [
             0.4,
             "#fde0ef"
            ],
            [
             0.5,
             "#f7f7f7"
            ],
            [
             0.6,
             "#e6f5d0"
            ],
            [
             0.7,
             "#b8e186"
            ],
            [
             0.8,
             "#7fbc41"
            ],
            [
             0.9,
             "#4d9221"
            ],
            [
             1,
             "#276419"
            ]
           ],
           "sequential": [
            [
             0,
             "#0d0887"
            ],
            [
             0.1111111111111111,
             "#46039f"
            ],
            [
             0.2222222222222222,
             "#7201a8"
            ],
            [
             0.3333333333333333,
             "#9c179e"
            ],
            [
             0.4444444444444444,
             "#bd3786"
            ],
            [
             0.5555555555555556,
             "#d8576b"
            ],
            [
             0.6666666666666666,
             "#ed7953"
            ],
            [
             0.7777777777777778,
             "#fb9f3a"
            ],
            [
             0.8888888888888888,
             "#fdca26"
            ],
            [
             1,
             "#f0f921"
            ]
           ],
           "sequentialminus": [
            [
             0,
             "#0d0887"
            ],
            [
             0.1111111111111111,
             "#46039f"
            ],
            [
             0.2222222222222222,
             "#7201a8"
            ],
            [
             0.3333333333333333,
             "#9c179e"
            ],
            [
             0.4444444444444444,
             "#bd3786"
            ],
            [
             0.5555555555555556,
             "#d8576b"
            ],
            [
             0.6666666666666666,
             "#ed7953"
            ],
            [
             0.7777777777777778,
             "#fb9f3a"
            ],
            [
             0.8888888888888888,
             "#fdca26"
            ],
            [
             1,
             "#f0f921"
            ]
           ]
          },
          "colorway": [
           "#636efa",
           "#EF553B",
           "#00cc96",
           "#ab63fa",
           "#FFA15A",
           "#19d3f3",
           "#FF6692",
           "#B6E880",
           "#FF97FF",
           "#FECB52"
          ],
          "font": {
           "color": "#2a3f5f"
          },
          "geo": {
           "bgcolor": "white",
           "lakecolor": "white",
           "landcolor": "#E5ECF6",
           "showlakes": true,
           "showland": true,
           "subunitcolor": "white"
          },
          "hoverlabel": {
           "align": "left"
          },
          "hovermode": "closest",
          "mapbox": {
           "style": "light"
          },
          "paper_bgcolor": "white",
          "plot_bgcolor": "#E5ECF6",
          "polar": {
           "angularaxis": {
            "gridcolor": "white",
            "linecolor": "white",
            "ticks": ""
           },
           "bgcolor": "#E5ECF6",
           "radialaxis": {
            "gridcolor": "white",
            "linecolor": "white",
            "ticks": ""
           }
          },
          "scene": {
           "xaxis": {
            "backgroundcolor": "#E5ECF6",
            "gridcolor": "white",
            "gridwidth": 2,
            "linecolor": "white",
            "showbackground": true,
            "ticks": "",
            "zerolinecolor": "white"
           },
           "yaxis": {
            "backgroundcolor": "#E5ECF6",
            "gridcolor": "white",
            "gridwidth": 2,
            "linecolor": "white",
            "showbackground": true,
            "ticks": "",
            "zerolinecolor": "white"
           },
           "zaxis": {
            "backgroundcolor": "#E5ECF6",
            "gridcolor": "white",
            "gridwidth": 2,
            "linecolor": "white",
            "showbackground": true,
            "ticks": "",
            "zerolinecolor": "white"
           }
          },
          "shapedefaults": {
           "line": {
            "color": "#2a3f5f"
           }
          },
          "ternary": {
           "aaxis": {
            "gridcolor": "white",
            "linecolor": "white",
            "ticks": ""
           },
           "baxis": {
            "gridcolor": "white",
            "linecolor": "white",
            "ticks": ""
           },
           "bgcolor": "#E5ECF6",
           "caxis": {
            "gridcolor": "white",
            "linecolor": "white",
            "ticks": ""
           }
          },
          "title": {
           "x": 0.05
          },
          "xaxis": {
           "automargin": true,
           "gridcolor": "white",
           "linecolor": "white",
           "ticks": "",
           "title": {
            "standoff": 15
           },
           "zerolinecolor": "white",
           "zerolinewidth": 2
          },
          "yaxis": {
           "automargin": true,
           "gridcolor": "white",
           "linecolor": "white",
           "ticks": "",
           "title": {
            "standoff": 15
           },
           "zerolinecolor": "white",
           "zerolinewidth": 2
          }
         }
        },
        "title": {
         "font": {
          "size": 16
         },
         "text": "<b>Performance on the Expert Dataset</b>",
         "x": 0.8,
         "y": 0.95
        },
        "width": 550,
        "xaxis": {
         "tickfont": {
          "size": 14
         },
         "ticktext": [
          "BC",
          "DT",
          "CQL",
          "IQL",
          "SUNRISE",
          "SAC-N"
         ],
         "tickvals": [
          0,
          1,
          2,
          3,
          4,
          5
         ],
         "title": {
          "font": {
           "size": 15
          },
          "text": "Algorithm"
         }
        },
        "yaxis": {
         "tickfont": {
          "size": 14
         },
         "title": {
          "font": {
           "size": 15
          },
          "standoff": 1,
          "text": "Mean Reward"
         }
        }
       }
      }
     },
     "metadata": {},
     "output_type": "display_data"
    }
   ],
   "source": [
    "wandb.finish()\n",
    "import plotly.graph_objs as go\n",
    "import plotly.io as pio\n",
    "import numpy as np\n",
    "\n",
    "groups = [\"BC\", \"DT\", \"CQL\", \"IQL\", \"SUNRISE\", \"SAC-N\"]\n",
    "metrics = ['train', 'reachable', 'unreachable']\n",
    "title = \"Performance on the Expert Dataset\"\n",
    "\n",
    "mean_values = {metric: [] for metric in metrics}\n",
    "stderr_values = {metric: [] for metric in metrics}\n",
    "\n",
    "for group in groups:\n",
    "    for metric in metrics:\n",
    "        values = np.array(performances[group][metric])\n",
    "        mean = np.nanmean(values)\n",
    "        stderr = np.nanstd(values) / np.sqrt(len(values[~np.isnan(values)]))\n",
    "        mean_values[metric].append(mean)\n",
    "        stderr_values[metric].append(stderr)\n",
    "\n",
    "# Create bars with error bars using Plotly\n",
    "fig = go.Figure()\n",
    "\n",
    "# Define patterns for each metric\n",
    "metric_patterns = {\n",
    "    'train': '',\n",
    "    'reachable': 'x',\n",
    "    'unreachable': '.'\n",
    "}\n",
    "\n",
    "# Define colors for each group\n",
    "group_colors = {\n",
    "    'CQL': 'blue',\n",
    "    'DT': 'green',\n",
    "    'BC': 'purple',\n",
    "    'IQL': 'orange',\n",
    "    'SUNRISE': 'red',\n",
    "    'SAC-N': 'cyan'\n",
    "}\n",
    "\n",
    "x = np.arange(len(groups))  # the label locations\n",
    "width = 0.25  # the width of the bars\n",
    "\n",
    "\n",
    "fig.add_trace(go.Bar(\n",
    "    x=x - width/1.3, \n",
    "    y=mean_values['train'], \n",
    "    name='Training', \n",
    "    error_y=dict(type='data', array=stderr_values['train']),\n",
    "    marker_color='#1f77b4'\n",
    "))\n",
    "\n",
    "fig.add_trace(go.Bar(\n",
    "    x=x, \n",
    "    y=mean_values['reachable'], \n",
    "    name='Reachable', \n",
    "    error_y=dict(type='data', array=stderr_values['reachable']),\n",
    "    marker_color='red'\n",
    "))\n",
    "\n",
    "fig.add_trace(go.Bar(\n",
    "    x=x + width/1.3, \n",
    "    y=mean_values['unreachable'], \n",
    "    name='Unreachable', \n",
    "    error_y=dict(type='data', array=stderr_values['unreachable']),\n",
    "    marker_color='orange'\n",
    "))\n",
    "\n",
    "## for doing bar plots like in the paper\n",
    "# show_legend = True\n",
    "# for i, group in enumerate(groups):\n",
    "#     fig.add_trace(go.Bar(\n",
    "#         x=[x[i] - width/1.7], \n",
    "#         y=[mean_values['train'][i]], \n",
    "#         name=f'Train' if show_legend else None, \n",
    "#         error_y=dict(type='data', array=[stderr_values['train'][i]]),\n",
    "#         marker_color=group_colors[group],\n",
    "#         marker_pattern_shape=metric_patterns['train'],\n",
    "#         showlegend=show_legend\n",
    "#     ))\n",
    "#     fig.add_trace(go.Bar(\n",
    "#         x=[x[i]], \n",
    "#         y=[mean_values['reachable'][i]], \n",
    "#         name=f'Reachable' if show_legend else None, \n",
    "#         error_y=dict(type='data', array=[stderr_values['reachable'][i]]),\n",
    "#         marker_color=group_colors[group],\n",
    "#         marker_pattern_shape=metric_patterns['reachable'],\n",
    "#         showlegend=show_legend\n",
    "#     ))\n",
    "#     fig.add_trace(go.Bar(\n",
    "#         x=[x[i] + width/1.7], \n",
    "#         y=[mean_values['unreachable'][i]], \n",
    "#         name=f'Unreachable' if show_legend else None, \n",
    "#         error_y=dict(type='data', array=[stderr_values['unreachable'][i]]),\n",
    "#         marker_color=group_colors[group],\n",
    "#         marker_pattern_shape=metric_patterns['unreachable'],\n",
    "#         showlegend=show_legend\n",
    "#     ))\n",
    "\n",
    "#     show_legend = False\n",
    "\n",
    "# Update layout\n",
    "fig.update_layout(\n",
    "    title=dict(text=\"<b>\"+title+\"</b>\", x=0.8, y=0.95, font=dict(size=16)),\n",
    "    xaxis=dict(\n",
    "        title=\"Algorithm\",\n",
    "        tickvals=x,\n",
    "        ticktext=groups,\n",
    "        titlefont=dict(size=15), tickfont=dict(size=14)\n",
    "    ),\n",
    "    yaxis=dict(title='Mean Reward', titlefont=dict(size=15), tickfont=dict(size=14), title_standoff=1),\n",
    "    barmode='overlay',\n",
    "    bargap=0, # gap between bars of adjacent location coordinates.\n",
    "    bargroupgap= 0.6, # gap between bars of the same location coordinate.\n",
    "    legend=dict(\n",
    "        # title=\"<b>Environment</b>\",\n",
    "        orientation=\"h\",\n",
    "        yanchor=\"top\",\n",
    "        font=dict(size=12),\n",
    "        y=1.1,\n",
    "        xanchor=\"center\",\n",
    "        bgcolor='rgba(0,0,0,0)',\n",
    "        x=0.5\n",
    "    ),\n",
    "    width=550, height=350,\n",
    "    margin={'t':60,'l':60,'b':0,'r':25}\n",
    ")\n",
    "\n",
    "# Log the plot to wandb\n",
    "# wandb.init(project=\"plots\", entity=\"gold-ai\", config={\"group\": \"plots\", \"dataset\": dataset})\n",
    "# wandb.log({\"plot\": fig})\n",
    "# wandb.finish()\n",
    "\n",
    "# Display the plot\n",
    "fig.show()"
   ]
  },
  {
   "cell_type": "markdown",
   "metadata": {},
   "source": [
    "### not sure where this came from XD"
   ]
  },
  {
   "cell_type": "code",
   "execution_count": null,
   "metadata": {},
   "outputs": [],
   "source": [
    "x=0.05),\n",
    "    barmode='overlay',\n",
    "    bargap=0, # gap between bars of adjacent location coordinates.\n",
    "    bargroupgap= 0.6, # gap between bars of the same location coordinate.\n",
    "    legend=dict(\n",
    "        # title=\"<b>Environment</b>\",\n",
    "        orientation=\"h\",\n",
    "        yanchor=\"top\",\n",
    "        font=dict(size=11),\n",
    "        y=1.1,\n",
    "        xanchor=\"center\",\n",
    "        bgcolor='rgba(0,0,0,0)',\n",
    "        x=0.5\n",
    "    ),\n",
    "    width=550, height=350,\n",
    "    margin={'t':60,'l':20,'b':7,'r':25}\n",
    ")\n",
    "\n",
    "# Log the plot to wandb\n",
    "# wandb.init(project=\"plots\", entity=\"gold-ai\", config={\"group\": \"plots\", \"dataset\": dataset})\n",
    "# wandb.log({\"plot\": fig})\n",
    "# wandb.finish()\n",
    "\n",
    "# Display the plot\n",
    "fig.show()"
   ]
  },
  {
   "cell_type": "markdown",
   "metadata": {},
   "source": [
    "### Plotting with matplotlib (not well compatible with wandb)"
   ]
  },
  {
   "cell_type": "code",
   "execution_count": null,
   "metadata": {},
   "outputs": [],
   "source": [
    "# from enum import Enum\n",
    "# import matplotlib.pyplot as plt\n",
    "# import numpy as np\n",
    "# wandb.finish()\n",
    "\n",
    "# class Group(float, Enum):\n",
    "#     CQL = 1\n",
    "#     DT = 2\n",
    "#     BC = 3\n",
    "#     IQL = 4\n",
    "#     SUNRISE = 5\n",
    "#     SAC_N = 6\n",
    "\n",
    "# group_enum = {group: Group[group] for group in groups}\n",
    "\n",
    "# metrics = ['train', 'reachable', 'unreachable']\n",
    "\n",
    "# mean_values = {metric: [] for metric in metrics}\n",
    "# stderr_values = {metric: [] for metric in metrics}\n",
    "\n",
    "# for group in groups:\n",
    "#     for metric in metrics:\n",
    "#         values = np.array(performances[group][metric])\n",
    "#         mean = np.nanmean(values)\n",
    "#         stderr = np.nanstd(values) / np.sqrt(len(values[~np.isnan(values)]))\n",
    "#         mean_values[metric].append(mean)\n",
    "#         stderr_values[metric].append(stderr)\n",
    "\n",
    "# x = np.arange(len(groups))  # the label locations\n",
    "# width = 0.25  # the width of the bars\n",
    "\n",
    "# fig, ax = plt.subplots(figsize=(7, 4))\n",
    "\n",
    "# # Create bars with error bars\n",
    "# rects1 = ax.bar(x - width/3, mean_values['train'], width, yerr=stderr_values['train'], label='Train', color='cyan')\n",
    "# rects2 = ax.bar(x, mean_values['reachable'], width, yerr=stderr_values['reachable'], label='Reachable', color='red')\n",
    "# rects3 = ax.bar(x + width/3, mean_values['unreachable'], width, yerr=stderr_values['unreachable'], label='Unreachable', color='orange')\n",
    "\n",
    "# # Add some text for labels, title and custom x-axis tick labels, etc.\n",
    "# ax.set_xlabel('Group')\n",
    "# ax.set_ylabel('Scores')\n",
    "# ax.set_title('Performance Metrics by Group')\n",
    "# ax.set_xticks(x)\n",
    "# ax.set_xticklabels(group_enum)\n",
    "# ax.legend()\n",
    "\n",
    "# # Function to add labels on bars\n",
    "# def add_labels(rects):\n",
    "#     for rect in rects:\n",
    "#         height = rect.get_height()\n",
    "#         if not np.isnan(height):\n",
    "#             ax.annotate(f'{height:.2f}',\n",
    "#                         xy=(rect.get_x() + rect.get_width() / 2, height),\n",
    "#                         xytext=(15, 0),  # 3 points vertical offset\n",
    "#                         textcoords=\"offset points\",\n",
    "#                         ha='center', va='bottom')\n",
    "\n",
    "# add_labels(rects1)\n",
    "# add_labels(rects2)\n",
    "# add_labels(rects3)\n",
    "\n",
    "# fig.tight_layout()\n",
    "# plt.show()\n",
    "\n",
    "# wandb.init(project=\"plots\", entity=\"gold-ai\", config={\"group\": \"plots\", \"dataset\": dataset})\n",
    "# wandb.log({\"plot\": plt})\n",
    "\n",
    "# wandb.finish()"
   ]
  }
 ],
 "metadata": {
  "kernelspec": {
   "display_name": ".venv",
   "language": "python",
   "name": "python3"
  },
  "language_info": {
   "codemirror_mode": {
    "name": "ipython",
    "version": 3
   },
   "file_extension": ".py",
   "mimetype": "text/x-python",
   "name": "python",
   "nbconvert_exporter": "python",
   "pygments_lexer": "ipython3",
   "version": "3.10.7"
  }
 },
 "nbformat": 4,
 "nbformat_minor": 2
}
